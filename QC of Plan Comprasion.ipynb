{
 "cells": [
  {
   "cell_type": "code",
   "execution_count": 1,
   "metadata": {},
   "outputs": [],
   "source": [
    "import pandas as pd\n",
    "import numpy as np"
   ]
  },
  {
   "cell_type": "code",
   "execution_count": 126,
   "metadata": {},
   "outputs": [],
   "source": [
    "OOPC_new=pd.read_csv(\"C:\\\\Users\\\\jishu.dayal\\\\Desktop\\\\PC_2021\\\\input\\\\Updated_OOPC_2021.csv\",engine='python')"
   ]
  },
  {
   "cell_type": "code",
   "execution_count": 127,
   "metadata": {},
   "outputs": [],
   "source": [
    "OOPC_new.rename (columns = {'Inpatient_Hospital_Acute_Care': 'Inpatient Hospital Acute Care'\n",
    ", 'Inpatient_Mental_Health_Care': 'Inpatient Mental Health Care'\n",
    ", 'Inpatient_Services': 'Inpatient Services'\n",
    ", 'Preventative_Dental': 'Preventative Dental'\n",
    ", 'Comprehensive_Dental': 'Comprehensive Dental'\n",
    ", 'Dental_Services': 'Dental Services'\n",
    ", 'Skilled_Nursing_Facility': 'Skilled Nursing Facility'\n",
    ", 'Cardiac_Rehabilitation_Services': 'Cardiac Rehabilitation Services'\n",
    ", 'Pulmonary_Rehab_Services': 'Pulmonary Rehab Services'\n",
    ", 'Emergency_Care': 'Emergency Care'\n",
    ", 'Urgently_Needed_Care': 'Urgently Needed Care'\n",
    ", 'Home_Health_Agency': 'Home Health Agency'\n",
    ", 'Primary_Care_Physician': 'Primary Care Physician'\n",
    ", 'Chiropractic_Services': 'Chiropractic Services'\n",
    ", 'Occupational_Therapy': 'Occupational Therapy'\n",
    ", 'Physician_Specialists': 'Physician Specialists'\n",
    ", 'Outpatient_Mental_Health_Care': 'Outpatient Mental Health Care'\n",
    ", 'Podiatry_Services': 'Podiatry Services'\n",
    ", 'Other_Health_Professionals': 'Other Health Professionals'\n",
    ", 'Psychiatric_Care': 'Psychiatric Care'\n",
    ", 'Physical_and_Speech_Therapy': 'Physical and Speech Therapy'\n",
    ", 'Outpatient_Lab': 'Outpatient Lab'\n",
    ", 'Diagnostic_Tests_and_Procedures': 'Diagnostic Tests and Procedures'\n",
    ", 'Therapeutic_Radiation': 'Therapeutic Radiation'\n",
    ", 'Outpatient_X_Rays': 'Outpatient X Rays'\n",
    ", 'Diagnostic_Radiological_Services': 'Diagnostic Radiological Services'\n",
    ", 'Outpatient_Hospital_Services': 'Outpatient Hospital Services'\n",
    ", 'Ambulatory_Surgical_Center': 'Ambulatory Surgical Center'\n",
    ", 'Chemotherapy_Drugs': 'Chemotherapy Drugs'\n",
    ", 'Ambulance': 'Ambulance'\n",
    ", 'Durable_Medical_Equipment': 'Durable Medical Equipment'\n",
    ", 'Prosthetic_Devices': 'Prosthetic Devices'\n",
    ", 'Renal_Dialysis': 'Renal Dialysis'\n",
    ", 'Diabetes_Education': 'Diabetes Education'\n",
    ", 'Eye_Exams': 'Eye Exams'\n",
    ", 'Hearing_Exams': 'Hearing Exams'\n",
    ", 'Medicare_Covered_Part_B_Drugs': 'Medicare Covered Part B Drugs'\n",
    ", 'Total': 'Total'\n",
    ", 'PartD': 'PartD'\n",
    "\n",
    "}, inplace = True)"
   ]
  },
  {
   "cell_type": "code",
   "execution_count": 128,
   "metadata": {},
   "outputs": [],
   "source": [
    "OOPC_new_left_columns=OOPC_new.filter(['Grand_Total','Bid_Id'], axis = 1)"
   ]
  },
  {
   "cell_type": "code",
   "execution_count": 129,
   "metadata": {},
   "outputs": [],
   "source": [
    "OOPC_new_dropped_columns = OOPC_new.drop(['Grand_Total'], axis=1)"
   ]
  },
  {
   "cell_type": "code",
   "execution_count": 130,
   "metadata": {},
   "outputs": [],
   "source": [
    "OOPC_new_dropped_columns['Inpatient Hospital Acute Care']\t=\t\"$\"+\tOOPC_new_dropped_columns['Inpatient Hospital Acute Care'].astype(str)\n",
    "OOPC_new_dropped_columns['Inpatient Mental Health Care']\t=\t\"$\"+\tOOPC_new_dropped_columns['Inpatient Mental Health Care'].astype(str)\n",
    "OOPC_new_dropped_columns['Skilled Nursing Facility']\t=\t\"$\"+\tOOPC_new_dropped_columns['Skilled Nursing Facility'].astype(str)\n",
    "OOPC_new_dropped_columns['Cardiac Rehabilitation Services']\t=\t\"$\"+\tOOPC_new_dropped_columns['Cardiac Rehabilitation Services'].astype(str)\n",
    "OOPC_new_dropped_columns['Pulmonary Rehab Services']\t=\t\"$\"+\tOOPC_new_dropped_columns['Pulmonary Rehab Services'].astype(str)\n",
    "OOPC_new_dropped_columns['Emergency Care']\t=\t\"$\"+\tOOPC_new_dropped_columns['Emergency Care'].astype(str)\n",
    "OOPC_new_dropped_columns['Urgently Needed Care']\t=\t\"$\"+\tOOPC_new_dropped_columns['Urgently Needed Care'].astype(str)\n",
    "OOPC_new_dropped_columns['Home Health Agency']\t=\t\"$\"+\tOOPC_new_dropped_columns['Home Health Agency'].astype(str)\n",
    "OOPC_new_dropped_columns['Primary Care Physician']\t=\t\"$\"+\tOOPC_new_dropped_columns['Primary Care Physician'].astype(str)\n",
    "OOPC_new_dropped_columns['Chiropractic Services']\t=\t\"$\"+\tOOPC_new_dropped_columns['Chiropractic Services'].astype(str)\n",
    "OOPC_new_dropped_columns['Occupational Therapy']\t=\t\"$\"+\tOOPC_new_dropped_columns['Occupational Therapy'].astype(str)\n",
    "OOPC_new_dropped_columns['Physician Specialists']\t=\t\"$\"+\tOOPC_new_dropped_columns['Physician Specialists'].astype(str)\n",
    "OOPC_new_dropped_columns['Outpatient Mental Health Care']\t=\t\"$\"+\tOOPC_new_dropped_columns['Outpatient Mental Health Care'].astype(str)\n",
    "OOPC_new_dropped_columns['Podiatry Services']\t=\t\"$\"+\tOOPC_new_dropped_columns['Podiatry Services'].astype(str)\n",
    "OOPC_new_dropped_columns['Other Health Professionals']\t=\t\"$\"+\tOOPC_new_dropped_columns['Other Health Professionals'].astype(str)\n",
    "OOPC_new_dropped_columns['Psychiatric Care']\t=\t\"$\"+\tOOPC_new_dropped_columns['Psychiatric Care'].astype(str)\n",
    "OOPC_new_dropped_columns['Physical and Speech Therapy']\t=\t\"$\"+\tOOPC_new_dropped_columns['Physical and Speech Therapy'].astype(str)\n",
    "OOPC_new_dropped_columns['Outpatient Lab']\t=\t\"$\"+\tOOPC_new_dropped_columns['Outpatient Lab'].astype(str)\n",
    "OOPC_new_dropped_columns['Diagnostic Tests and Procedures']\t=\t\"$\"+\tOOPC_new_dropped_columns['Diagnostic Tests and Procedures'].astype(str)\n",
    "OOPC_new_dropped_columns['Therapeutic Radiation']\t=\t\"$\"+\tOOPC_new_dropped_columns['Therapeutic Radiation'].astype(str)\n",
    "OOPC_new_dropped_columns['Outpatient X Rays']\t=\t\"$\"+\tOOPC_new_dropped_columns['Outpatient X Rays'].astype(str)\n",
    "OOPC_new_dropped_columns['Diagnostic Radiological Services']\t=\t\"$\"+\tOOPC_new_dropped_columns['Diagnostic Radiological Services'].astype(str)\n",
    "OOPC_new_dropped_columns['Outpatient Hospital Services']\t=\t\"$\"+\tOOPC_new_dropped_columns['Outpatient Hospital Services'].astype(str)\n",
    "OOPC_new_dropped_columns['Ambulatory Surgical Center']\t=\t\"$\"+\tOOPC_new_dropped_columns['Ambulatory Surgical Center'].astype(str)\n",
    "OOPC_new_dropped_columns['Chemotherapy Drugs']\t=\t\"$\"+\tOOPC_new_dropped_columns['Chemotherapy Drugs'].astype(str)\n",
    "OOPC_new_dropped_columns['Ambulance']\t=\t\"$\"+\tOOPC_new_dropped_columns['Ambulance'].astype(str)\n",
    "OOPC_new_dropped_columns['Durable Medical Equipment']\t=\t\"$\"+\tOOPC_new_dropped_columns['Durable Medical Equipment'].astype(str)\n",
    "OOPC_new_dropped_columns['Prosthetic Devices']\t=\t\"$\"+\tOOPC_new_dropped_columns['Prosthetic Devices'].astype(str)\n",
    "OOPC_new_dropped_columns['Renal Dialysis']\t=\t\"$\"+\tOOPC_new_dropped_columns['Renal Dialysis'].astype(str)\n",
    "OOPC_new_dropped_columns['Diabetes Education']\t=\t\"$\"+\tOOPC_new_dropped_columns['Diabetes Education'].astype(str)\n",
    "OOPC_new_dropped_columns['Medicare Covered Part B Drugs']\t=\t\"$\"+\tOOPC_new_dropped_columns['Medicare Covered Part B Drugs'].astype(str)\n",
    "OOPC_new_dropped_columns['Preventative Dental']\t=\t\"$\"+\tOOPC_new_dropped_columns['Preventative Dental'].astype(str)\n",
    "OOPC_new_dropped_columns['Comprehensive Dental']\t=\t\"$\"+\tOOPC_new_dropped_columns['Comprehensive Dental'].astype(str)\n",
    "OOPC_new_dropped_columns['Eye Exams']\t=\t\"$\"+\tOOPC_new_dropped_columns['Eye Exams'].astype(str)\n",
    "OOPC_new_dropped_columns['Hearing Exams']\t=\t\"$\"+\tOOPC_new_dropped_columns['Hearing Exams'].astype(str)\n",
    "OOPC_new_dropped_columns['Opioid']\t=\t\"$\"+\tOOPC_new_dropped_columns['Opioid'].astype(str)\n",
    "OOPC_new_dropped_columns['Total']\t=\t\"$\"+\tOOPC_new_dropped_columns['Total'].astype(str)\n",
    "OOPC_new_dropped_columns['PartD']\t=\t\"$\"+\tOOPC_new_dropped_columns['PartD'].astype(str)\n"
   ]
  },
  {
   "cell_type": "code",
   "execution_count": 131,
   "metadata": {},
   "outputs": [],
   "source": [
    "OOPC_new_dropped_columns['PartD']=OOPC_new_dropped_columns['PartD'].replace('$nan','')"
   ]
  },
  {
   "cell_type": "code",
   "execution_count": 132,
   "metadata": {},
   "outputs": [],
   "source": [
    "join_check = pd.DataFrame(columns=['Dataframe','Rows before join','Columns before join','Rows_after_join','Columns_after_join','Expected_rows_after_Join','Expected_columns_after_join','Join_on'])\n"
   ]
  },
  {
   "cell_type": "code",
   "execution_count": 136,
   "metadata": {},
   "outputs": [],
   "source": [
    "ben= pd.read_csv(\"C:\\\\Users\\\\jishu.dayal\\\\Desktop\\\\PC_2021\\\\input\\\\benefit_file_joined_2021_OON_noblankCols_blankinterpreted_vbid_ssbci.csv\", engine='python', dtype = 'str')\n"
   ]
  },
  {
   "cell_type": "code",
   "execution_count": 137,
   "metadata": {},
   "outputs": [
    {
     "data": {
      "text/plain": [
       "array(['Ground : $0 ; Air : $0', 'Ground : 20% ; Air : 20%',\n",
       "       'Ground : $290 ; Air : 20%', 'Ground : $265 ; Air : 20%',\n",
       "       'Ground : $265 ; Air : $265', 'Ground : $195 ; Air : $195',\n",
       "       'Ground : $165 ; Air : $165', 'Ground : $250 ; Air : 20%',\n",
       "       'Ground : $300 ; Air : $300', 'Ground : $250 ; Air : $250',\n",
       "       'Ground : $225 ; Air : $225', 'Ground : $200 ; Air : $200',\n",
       "       'Ground : $275 ; Air : $275', 'Ground : $150 ; Air : $150',\n",
       "       'Ground : $0 after Deductible ; Air : $0 after Deductible',\n",
       "       'Ground : $270 ; Air : $270', 'Ground : $230 ; Air : $230',\n",
       "       'Ground : $245 ; Air : $245', 'Ground : $325 ; Air : $325',\n",
       "       'Ground : $235 ; Air : $235', 'Ground : $290 ; Air : $290',\n",
       "       'Ground : $350 ; Air : $350', 'Ground : $275 ; Air : 20%',\n",
       "       'Ground : $350 ; Air : 20%', 'Ground : $100 ; Air : $100',\n",
       "       'Ground : $255 ; Air : 20%', 'Ground : $260 ; Air : 20%',\n",
       "       'Ground : $245 ; Air : 20%', 'Ground : $230 ; Air : 20%',\n",
       "       'Ground : $295 ; Air : 20%', 'Ground : $340 ; Air : 20%',\n",
       "       'Ground : $200 ; Air : 20%', 'Ground : $380 ; Air : 20%',\n",
       "       'Ground : $300 ; Air : 20%', 'Ground : $175 ; Air : $175',\n",
       "       'Ground : $195 ; Air : $1000', 'Ground : $200 ; Air : $1000',\n",
       "       'Ground : $165 ; Air : 5%', 'Ground : $195 ; Air : 5%',\n",
       "       'Ground : $220 ; Air : 5%', 'Ground : $125 ; Air : 5%',\n",
       "       'Ground : $50 ; Air : 5%', 'Ground : $75 ; Air : 5%',\n",
       "       'Ground : $190 ; Air : 5%', 'Ground : $40 ; Air : 5%',\n",
       "       'Ground : $295 ; Air : 5%', 'Ground : $300 ; Air : 5%',\n",
       "       'Ground : $250 ; Air : 5%', 'Ground : $95 ; Air : 5%',\n",
       "       'Ground : $230 ; Air : 5%', 'Ground : $275 ; Air : 5%',\n",
       "       'Ground : $240 ; Air : $240', 'Ground : $260 ; Air : $260',\n",
       "       'Ground : $285 ; Air : $285', 'Ground : $205 ; Air : 20%',\n",
       "       'Ground : $180 ; Air : 20%', 'Ground : $170 ; Air : 20%',\n",
       "       'Ground : $195 ; Air : 20%', 'Ground : $190 ; Air : 20%',\n",
       "       'Ground : $75 ; Air : $75', 'Ground : $295 ; Air : $295',\n",
       "       'Ground : $85 ; Air : $85', 'Ground : $255 ; Air : $255',\n",
       "       'Ground : $75 ; Air : 20%', 'Ground : $50 ; Air : 20%',\n",
       "       'Ground : $180 ; Air : $180', 'Ground : $145 ; Air : $145',\n",
       "       'Ground : $0 ; Air : 20%', 'Ground : $100 ; Air : 20%',\n",
       "       'Ground : $150 ; Air : 20%', 'Ground : $240 ; Air : 20%',\n",
       "       'Ground : $215 ; Air : $215', 'Ground : $185 ; Air : $185',\n",
       "       'Ground : $190 ; Air : $190', 'Ground : $365 ; Air : $365',\n",
       "       'Ground : $375 ; Air : $375', 'Ground : $320 ; Air : $320',\n",
       "       'Ground : $360 ; Air : $360', 'Ground : $280 ; Air : $280',\n",
       "       'Ground : $370 ; Air : $370', 'Ground : $270 ; Air : 20%',\n",
       "       'Ground : $200 ; Air : $400', 'Ground : $225 ; Air : $450',\n",
       "       'Ground : $25 ; Air : $25', 'Ground : $110 ; Air : $110',\n",
       "       'Ground : $95 ; Air : 20%', 'Ground : $220 ; Air : $220',\n",
       "       'Ground : $200 ; Air : $300', 'Ground : $200 ; Air : $225',\n",
       "       'Ground : $125 ; Air : $125', 'Ground : $255 ; Air : $355',\n",
       "       'Ground : $325 ; Air : $425', 'Ground : $275 ; Air : $375',\n",
       "       'Ground : $250 ; Air : $350', 'Ground : $330 ; Air : $330',\n",
       "       'Ground : $340 ; Air : $340', 'Ground : $80 ; Air : 20%',\n",
       "       'Ground : $225 ; Air : 20%', 'Ground : $280 ; Air : 20%',\n",
       "       'Ground : $285 ; Air : $385', 'Ground : $265 ; Air : $530',\n",
       "       'Ground : $100 ; Air : $250', 'Ground : $250 ; Air : $300',\n",
       "       'Ground : $235 ; Air : 20%', 'Ground : $99 ; Air : 20%',\n",
       "       'Ground : $200 ; Air : $250', 'Ground : $210 ; Air : 20%',\n",
       "       'Ground : $220 ; Air : 20%', 'Ground : $90 ; Air : $90',\n",
       "       'Ground : $195 ; Air : $225', 'Ground : $25 ; Air : $50',\n",
       "       'Ground : $0 ; Air : $50', 'Ground : $50 ; Air : $100',\n",
       "       'Ground : $20 ; Air : $20', 'Ground : $285 ; Air : 20%',\n",
       "       'Ground : $210 ; Air : $210', 'Ground : $125 ; Air : 20%',\n",
       "       'Ground : $205 ; Air : $205', 'Ground : $225 ; Air : $295',\n",
       "       'Ground : $180 ; Air : $295', 'Ground : $315 ; Air : $315',\n",
       "       'Ground : $50 ; Air : $50', 'Ground : $75 ; Air : $150',\n",
       "       'Ground : $150 ; Air : $300', 'Ground : $100 ; Air : $200',\n",
       "       'Ground : $175 ; Air : $300', 'Ground : $200 ; Air : $500',\n",
       "       'Ground : $200 ; Air : $350', 'Ground : $440 ; Air : 20%',\n",
       "       'Ground : $445 ; Air : 20%', 'Ground : $425 ; Air : 20%',\n",
       "       'Ground : $55 ; Air : 20%', 'Ground : $325 ; Air : 20%',\n",
       "       'Ground : $400 ; Air : $400', 'Ground : $425 ; Air : $425',\n",
       "       'Ground : $450 ; Air : $450', 'Ground : $415 ; Air : 20%',\n",
       "       'Ground : $385 ; Air : 20%', 'Ground : $395 ; Air : 20%',\n",
       "       'Ground : $375 ; Air : 20%', 'Ground : $300 ; Air : $350',\n",
       "       'Ground : $225 ; Air : $275', 'Ground : $240 ; Air : $290',\n",
       "       'Ground : $220 ; Air : $270', 'Ground : $250 ; Air : $500',\n",
       "       'Ground : $115 ; Air : $115', 'Ground : $75 ; Air : $200',\n",
       "       'Ground : $100 ; Air : $225', 'Ground : $50 -$125 ; Air : $125',\n",
       "       'Ground : $50 -$100 ; Air : $100',\n",
       "       'Ground : $50 -$225 ; Air : $225',\n",
       "       'Ground : $50 -$200 ; Air : $200',\n",
       "       'Ground : $50 -$250 ; Air : $250', 'Ground : $245 ; Air : $345',\n",
       "       'Ground : $240 ; Air : $340', 'Ground : $260 ; Air : $360',\n",
       "       'Ground : $160 ; Air : $160', 'Ground : $225 ; Air : $325',\n",
       "       'Ground : $295 ; Air : $395', 'Ground : $235 ; Air : $335',\n",
       "       'Ground : $270 ; Air : $370', 'Ground : $45 ; Air : 20%',\n",
       "       'Ground : $200 ; Air : 50%', 'Ground : $245 ; Air : 50%',\n",
       "       'Ground : $145 ; Air : 20%', 'Ground : $175 ; Air : 20%',\n",
       "       'Ground : $0 ; Air : $200', 'Ground : $315 ; Air : 20%',\n",
       "       'Ground : 5% ; Air : 5%', 'Ground : $310 ; Air : $310',\n",
       "       'Ground : $305 ; Air : $305', 'Ground : $380 ; Air : $380',\n",
       "       'Ground : $350 ; Air : $1000', 'Ground : $40 ; Air : 20%',\n",
       "       'Ground : $225 ; Air : $250', 'Ground : $220 ; Air : $225',\n",
       "       'Ground : $225 ; Air : $260', 'Ground : $330 ; Air : 20%',\n",
       "       'Ground : $195 ; Air : $250', 'Ground : $100 ; Air : $400',\n",
       "       'Ground : $270 ; Air : $325', 'Ground : $290 ; Air : $500',\n",
       "       'Ground : $225 ; Air : 50%', 'Ground : $275 ; Air : 50%',\n",
       "       'Ground : $210 ; Air : 50%', 'Ground : $255 ; Air : 50%',\n",
       "       'Ground : $190 ; Air : 50%', 'Ground : $235 ; Air : 50%',\n",
       "       'Ground : 15% ; Air : 15%', 'Ground : $215 ; Air : 20%',\n",
       "       'Ground : $160 ; Air : 20%', 'Ground : $310 ; Air : 20%',\n",
       "       'Ground : $40 ; Air : $40', 'Ground : $200 ; Air : $205',\n",
       "       'Ground : $305 ; Air : 20%',\n",
       "       'Ground : $50 -$250 ; Air : $50 -$250',\n",
       "       'Ground : $25 -$50 ; Air : $25 -$50', 'Ground : $215 ; Air : $225'],\n",
       "      dtype=object)"
      ]
     },
     "execution_count": 137,
     "metadata": {},
     "output_type": "execute_result"
    }
   ],
   "source": [
    "benefit_before_unpivot=ben.apply(lambda x: x.str.replace(',',';'))\n",
    "benefit_before_unpivot['Ground and Air Ambulance Coinsurance/Copay'].unique()"
   ]
  },
  {
   "cell_type": "code",
   "execution_count": 138,
   "metadata": {},
   "outputs": [],
   "source": [
    "rows_OOPC_before_join = benefit_before_unpivot.shape[0]\n",
    "columns_OOPC_before_join = benefit_before_unpivot.shape[1]\n",
    "ex_col_ben = (columns_OOPC_before_join) + (OOPC_new_dropped_columns.shape[1]) - 1\n"
   ]
  },
  {
   "cell_type": "code",
   "execution_count": 139,
   "metadata": {},
   "outputs": [],
   "source": [
    "benefit_file_with_OOPC = benefit_before_unpivot.merge(OOPC_new_dropped_columns, left_on = 'bid_id', right_on = 'Bid_Id', how = 'left')\n"
   ]
  },
  {
   "cell_type": "code",
   "execution_count": 140,
   "metadata": {},
   "outputs": [],
   "source": [
    "jc = pd.DataFrame({'Dataframe':['Benefits + OOPC'],\n",
    "                   'Rows before join':[f\"{rows_OOPC_before_join} and  {OOPC_new_dropped_columns.shape[0]}\"],\n",
    "                   'Columns before join':[f\"{columns_OOPC_before_join} and {OOPC_new_dropped_columns.shape[1]}\"],\n",
    "                   'Rows_after_join':[benefit_file_with_OOPC.shape[0]],\n",
    "                   'Columns_after_join':[benefit_file_with_OOPC.shape[1]],\n",
    "                   'Expected_rows_after_Join':[rows_OOPC_before_join],\n",
    "                   'Expected_columns_after_join':[ex_col_ben],\n",
    "                   'Join_on':['bid_id']})\n",
    "join_check = join_check.append(jc,ignore_index=True)"
   ]
  },
  {
   "cell_type": "code",
   "execution_count": 141,
   "metadata": {},
   "outputs": [
    {
     "data": {
      "text/html": [
       "<div>\n",
       "<style scoped>\n",
       "    .dataframe tbody tr th:only-of-type {\n",
       "        vertical-align: middle;\n",
       "    }\n",
       "\n",
       "    .dataframe tbody tr th {\n",
       "        vertical-align: top;\n",
       "    }\n",
       "\n",
       "    .dataframe thead th {\n",
       "        text-align: right;\n",
       "    }\n",
       "</style>\n",
       "<table border=\"1\" class=\"dataframe\">\n",
       "  <thead>\n",
       "    <tr style=\"text-align: right;\">\n",
       "      <th></th>\n",
       "      <th>Dataframe</th>\n",
       "      <th>Rows before join</th>\n",
       "      <th>Columns before join</th>\n",
       "      <th>Rows_after_join</th>\n",
       "      <th>Columns_after_join</th>\n",
       "      <th>Expected_rows_after_Join</th>\n",
       "      <th>Expected_columns_after_join</th>\n",
       "      <th>Join_on</th>\n",
       "    </tr>\n",
       "  </thead>\n",
       "  <tbody>\n",
       "    <tr>\n",
       "      <th>0</th>\n",
       "      <td>Benefits + OOPC</td>\n",
       "      <td>6705 and  6684</td>\n",
       "      <td>629 and 39</td>\n",
       "      <td>6705</td>\n",
       "      <td>668</td>\n",
       "      <td>6705</td>\n",
       "      <td>667</td>\n",
       "      <td>bid_id</td>\n",
       "    </tr>\n",
       "  </tbody>\n",
       "</table>\n",
       "</div>"
      ],
      "text/plain": [
       "         Dataframe Rows before join Columns before join Rows_after_join  \\\n",
       "0  Benefits + OOPC   6705 and  6684          629 and 39            6705   \n",
       "\n",
       "  Columns_after_join Expected_rows_after_Join Expected_columns_after_join  \\\n",
       "0                668                     6705                         667   \n",
       "\n",
       "  Join_on  \n",
       "0  bid_id  "
      ]
     },
     "execution_count": 141,
     "metadata": {},
     "output_type": "execute_result"
    }
   ],
   "source": [
    "join_check.head()"
   ]
  },
  {
   "cell_type": "code",
   "execution_count": 142,
   "metadata": {},
   "outputs": [],
   "source": [
    "benefit_file_with_OOPC=benefit_file_with_OOPC.drop(['Bid_Id'],axis=1)\n"
   ]
  },
  {
   "cell_type": "code",
   "execution_count": 143,
   "metadata": {},
   "outputs": [],
   "source": [
    "MrX_variables = pd.read_csv(\"C:\\\\Users\\\\jishu.dayal\\\\Desktop\\\\PC_2021\\\\input\\\\part_D_PC_2021.csv\", engine='python')\n"
   ]
  },
  {
   "cell_type": "code",
   "execution_count": 144,
   "metadata": {},
   "outputs": [],
   "source": [
    "rows_OOPC_before_join = benefit_file_with_OOPC.shape[0]\n",
    "columns_OOPC_before_join = benefit_file_with_OOPC.shape[1]\n"
   ]
  },
  {
   "cell_type": "code",
   "execution_count": 145,
   "metadata": {},
   "outputs": [],
   "source": [
    "benefit_file_OOPC_Mrx = benefit_file_with_OOPC.merge(MrX_variables, left_on = 'bid_id', right_on = 'bid_id', how = 'left')\n"
   ]
  },
  {
   "cell_type": "code",
   "execution_count": 146,
   "metadata": {},
   "outputs": [],
   "source": [
    "ex_col_ben = (columns_OOPC_before_join) + (MrX_variables.shape[1]) - 1\n"
   ]
  },
  {
   "cell_type": "code",
   "execution_count": 147,
   "metadata": {},
   "outputs": [],
   "source": [
    "jc = pd.DataFrame({'Dataframe':['OOPC + MrX_variables'],\n",
    "                   'Rows before join':[f\"{rows_OOPC_before_join} and  {MrX_variables.shape[0]}\"],\n",
    "                   'Columns before join':[f\"{columns_OOPC_before_join} and {MrX_variables.shape[1]}\"],\n",
    "                   'Rows_after_join':[benefit_file_OOPC_Mrx.shape[0]],\n",
    "                   'Columns_after_join':[benefit_file_OOPC_Mrx.shape[1]],\n",
    "                   'Expected_rows_after_Join':[rows_OOPC_before_join],\n",
    "                   'Expected_columns_after_join':[ex_col_ben],\n",
    "                   'Join_on':['bid_id']})\n",
    "join_check = join_check.append(jc,ignore_index=True)\n"
   ]
  },
  {
   "cell_type": "code",
   "execution_count": 148,
   "metadata": {},
   "outputs": [
    {
     "data": {
      "text/html": [
       "<div>\n",
       "<style scoped>\n",
       "    .dataframe tbody tr th:only-of-type {\n",
       "        vertical-align: middle;\n",
       "    }\n",
       "\n",
       "    .dataframe tbody tr th {\n",
       "        vertical-align: top;\n",
       "    }\n",
       "\n",
       "    .dataframe thead th {\n",
       "        text-align: right;\n",
       "    }\n",
       "</style>\n",
       "<table border=\"1\" class=\"dataframe\">\n",
       "  <thead>\n",
       "    <tr style=\"text-align: right;\">\n",
       "      <th></th>\n",
       "      <th>Dataframe</th>\n",
       "      <th>Rows before join</th>\n",
       "      <th>Columns before join</th>\n",
       "      <th>Rows_after_join</th>\n",
       "      <th>Columns_after_join</th>\n",
       "      <th>Expected_rows_after_Join</th>\n",
       "      <th>Expected_columns_after_join</th>\n",
       "      <th>Join_on</th>\n",
       "    </tr>\n",
       "  </thead>\n",
       "  <tbody>\n",
       "    <tr>\n",
       "      <th>0</th>\n",
       "      <td>Benefits + OOPC</td>\n",
       "      <td>6705 and  6684</td>\n",
       "      <td>629 and 39</td>\n",
       "      <td>6705</td>\n",
       "      <td>668</td>\n",
       "      <td>6705</td>\n",
       "      <td>667</td>\n",
       "      <td>bid_id</td>\n",
       "    </tr>\n",
       "    <tr>\n",
       "      <th>1</th>\n",
       "      <td>OOPC + MrX_variables</td>\n",
       "      <td>6705 and  7966</td>\n",
       "      <td>667 and 6</td>\n",
       "      <td>6705</td>\n",
       "      <td>672</td>\n",
       "      <td>6705</td>\n",
       "      <td>672</td>\n",
       "      <td>bid_id</td>\n",
       "    </tr>\n",
       "  </tbody>\n",
       "</table>\n",
       "</div>"
      ],
      "text/plain": [
       "              Dataframe Rows before join Columns before join Rows_after_join  \\\n",
       "0       Benefits + OOPC   6705 and  6684          629 and 39            6705   \n",
       "1  OOPC + MrX_variables   6705 and  7966           667 and 6            6705   \n",
       "\n",
       "  Columns_after_join Expected_rows_after_Join Expected_columns_after_join  \\\n",
       "0                668                     6705                         667   \n",
       "1                672                     6705                         672   \n",
       "\n",
       "  Join_on  \n",
       "0  bid_id  \n",
       "1  bid_id  "
      ]
     },
     "execution_count": 148,
     "metadata": {},
     "output_type": "execute_result"
    }
   ],
   "source": [
    "join_check.head()"
   ]
  },
  {
   "cell_type": "code",
   "execution_count": 22,
   "metadata": {},
   "outputs": [],
   "source": [
    "benefit_file_with_OOPC_unpivot = pd.melt(benefit_file_OOPC_Mrx, id_vars='bid_id', var_name='Benefit1', value_name='value')\n"
   ]
  },
  {
   "cell_type": "code",
   "execution_count": 149,
   "metadata": {},
   "outputs": [],
   "source": [
    "plan_comparison_left = pd.read_csv(\"C:\\\\Users\\\\jishu.dayal\\\\Desktop\\\\PC_2021\\\\input\\\\Landscape_2021.csv\", engine='python')\n"
   ]
  },
  {
   "cell_type": "code",
   "execution_count": 150,
   "metadata": {},
   "outputs": [],
   "source": [
    "counties_file = pd.read_csv(\"C:\\\\Users\\\\jishu.dayal\\\\Desktop\\\\PC_2021\\\\input\\\\Comb_counties.csv\", engine='python')"
   ]
  },
  {
   "cell_type": "code",
   "execution_count": 151,
   "metadata": {},
   "outputs": [],
   "source": [
    "rows_PC_lscape_before_join = plan_comparison_left.shape[0]\n",
    "columns_PC_lscape_before_join = plan_comparison_left.shape[1]"
   ]
  },
  {
   "cell_type": "code",
   "execution_count": 152,
   "metadata": {},
   "outputs": [],
   "source": [
    "plan_comparison_left=plan_comparison_left.merge(counties_file,left_on = ['State','bid_id'],right_on = ['State','bid_id'],how = 'left')\n"
   ]
  },
  {
   "cell_type": "code",
   "execution_count": 153,
   "metadata": {},
   "outputs": [],
   "source": [
    "ex_col_ben = (columns_PC_lscape_before_join) + (counties_file.shape[1]) - 1\n"
   ]
  },
  {
   "cell_type": "code",
   "execution_count": 154,
   "metadata": {},
   "outputs": [],
   "source": [
    "jc = pd.DataFrame({'Dataframe':['PC + counties'],\n",
    "                   'Rows before join':[f\"{rows_PC_lscape_before_join} and  {counties_file.shape[0]}\"],\n",
    "                   'Columns before join':[f\"{columns_OOPC_before_join} and {counties_file.shape[1]}\"],\n",
    "                   'Rows_after_join':[plan_comparison_left.shape[0]],\n",
    "                   'Columns_after_join':[plan_comparison_left.shape[1]],\n",
    "                   'Expected_rows_after_Join':[rows_PC_lscape_before_join],\n",
    "                   'Expected_columns_after_join':[ex_col_ben],\n",
    "                   'Join_on':['bid_id and State']})\n",
    "join_check = join_check.append(jc,ignore_index=True)"
   ]
  },
  {
   "cell_type": "code",
   "execution_count": 155,
   "metadata": {},
   "outputs": [],
   "source": [
    "plan_comparison_left['Combined_Counties']=plan_comparison_left['Combined_Counties'].apply(lambda x: x.replace(',',';'))\n"
   ]
  },
  {
   "cell_type": "code",
   "execution_count": 156,
   "metadata": {},
   "outputs": [],
   "source": [
    "plan_comparison_left[\"Index\"]= plan_comparison_left['plan_type'].str.find('*')\n",
    "plan_comparison_left['dummy_coverage'] = np.where(plan_comparison_left['Index']>0, 'Provides Health Coverage only', 'Provides Health and Drug Coverage')\n"
   ]
  },
  {
   "cell_type": "code",
   "execution_count": 157,
   "metadata": {},
   "outputs": [],
   "source": [
    "plan_comparison_left =plan_comparison_left.drop(['Index'],axis=1)\n",
    "plan_comparison_left=plan_comparison_left.rename(columns={'dummy_coverage' : 'Plan_Coverage'})\n"
   ]
  },
  {
   "cell_type": "code",
   "execution_count": 158,
   "metadata": {},
   "outputs": [],
   "source": [
    "MOOP_oth= pd.read_csv(\"C:\\\\Users\\\\jishu.dayal\\\\Desktop\\\\PC_2021\\\\input\\\\MOOP_Gbck_Ded.csv\", engine='python')\n",
    "\n",
    "Cost_oth_cols=MOOP_oth.filter([\n",
    "'bid_id',       \n",
    "'pbp_d_out_pocket_amt',\n",
    "'pbp_d_mco_pay_reduct_amt',\n",
    "'pbp_d_ann_deduct_amt',\n",
    "\n",
    "'pbp_d_inn_deduct_yn',\n",
    "'pbp_d_inn_deduct_partb_yn',\n",
    "'pbp_d_inn_deduct_amt',\n",
    "'pbp_d_oon_deduct_yn',\n",
    "'pbp_d_oon_deduct_partb_yn',\n",
    "'pbp_d_oon_deduct_amt',\n",
    "'pbp_d_comb_deduct_yn',\n",
    "'pbp_d_comb_deduct_partb_yn',\n",
    "'pbp_d_comb_deduct_amt',\n",
    "'pbp_d_comb_max_enr_amt_yn',\n",
    "'pbp_d_comb_max_enr_amt_type',\n",
    "'pbp_d_comb_max_enr_amt',\n",
    "'pbp_d_mco_pay_reduct_yn'\n",
    "\n",
    "                          ],axis=1)"
   ]
  },
  {
   "cell_type": "code",
   "execution_count": 159,
   "metadata": {},
   "outputs": [],
   "source": [
    "rows_PC_left_before_join = plan_comparison_left.shape[0]\n",
    "columns_PC_left_before_join = plan_comparison_left.shape[1]\n"
   ]
  },
  {
   "cell_type": "code",
   "execution_count": 160,
   "metadata": {},
   "outputs": [],
   "source": [
    "plan_comparison_left=plan_comparison_left.merge(Cost_oth_cols, left_on = 'bid_id', right_on = 'bid_id', how = 'left')\n"
   ]
  },
  {
   "cell_type": "code",
   "execution_count": 161,
   "metadata": {},
   "outputs": [],
   "source": [
    "ex_col_ben = (columns_PC_left_before_join) + (Cost_oth_cols.shape[1]) - 1\n"
   ]
  },
  {
   "cell_type": "code",
   "execution_count": 162,
   "metadata": {},
   "outputs": [],
   "source": [
    "jc = pd.DataFrame({'Dataframe':['PC_left + Cost_oth_cols'],\n",
    "                   'Rows before join':[f\"{rows_PC_left_before_join} and  {Cost_oth_cols.shape[0]}\"],\n",
    "                   'Columns before join':[f\"{columns_PC_left_before_join} and {Cost_oth_cols.shape[1]}\"],\n",
    "                   'Rows_after_join':[plan_comparison_left.shape[0]],\n",
    "                   'Columns_after_join':[plan_comparison_left.shape[1]],\n",
    "                   'Expected_rows_after_Join':[rows_PC_left_before_join],\n",
    "                   'Expected_columns_after_join':[ex_col_ben],\n",
    "                   'Join_on':['bid_id and State']})\n",
    "join_check = join_check.append(jc,ignore_index=True)\n"
   ]
  },
  {
   "cell_type": "code",
   "execution_count": 163,
   "metadata": {},
   "outputs": [],
   "source": [
    "plan_comparison_left =plan_comparison_left.drop(['In_network_MOOP_Amount'],axis=1)\n"
   ]
  },
  {
   "cell_type": "code",
   "execution_count": 164,
   "metadata": {},
   "outputs": [],
   "source": [
    "plan_comparison_left.rename(columns = {'pbp_d_out_pocket_amt' : 'In_Network_MOOP_Amount',\n",
    "'pbp_d_ann_deduct_amt':'Deductible_Health'                                     \n",
    "                                       }, inplace = True)\n"
   ]
  },
  {
   "cell_type": "code",
   "execution_count": 165,
   "metadata": {},
   "outputs": [],
   "source": [
    "drug_ded=MrX_variables.filter(['bid_id','MRx Alt Deductible Amount'],axis=1)\n",
    "drug_ded.rename(columns={'MRx Alt Deductible Amount' : 'Annual_Drug_Deductible'},inplace=True)\n",
    "plan_comparison_left =plan_comparison_left.drop(['Annual_Drug_Deductible'],axis=1)\n"
   ]
  },
  {
   "cell_type": "code",
   "execution_count": 166,
   "metadata": {},
   "outputs": [],
   "source": [
    "rows_PC_left_before_join = plan_comparison_left.shape[0]\n",
    "columns_PC_left_before_join = plan_comparison_left.shape[1]\n"
   ]
  },
  {
   "cell_type": "code",
   "execution_count": 167,
   "metadata": {},
   "outputs": [],
   "source": [
    "plan_comparison_left=plan_comparison_left.merge(drug_ded, left_on = 'bid_id', right_on = 'bid_id', how = 'left')\n"
   ]
  },
  {
   "cell_type": "code",
   "execution_count": 168,
   "metadata": {},
   "outputs": [],
   "source": [
    "ex_col_ben = (columns_PC_left_before_join) + (drug_ded.shape[1]) - 1\n"
   ]
  },
  {
   "cell_type": "code",
   "execution_count": 46,
   "metadata": {},
   "outputs": [],
   "source": [
    "jc = pd.DataFrame({'Dataframe':['PC_left + drug_ded'],\n",
    "                   'Rows before join':[f\"{rows_PC_left_before_join} and  {drug_ded.shape[0]}\"],\n",
    "                   'Columns before join':[f\"{columns_PC_left_before_join} and {drug_ded.shape[1]}\"],\n",
    "                   'Rows_after_join':[plan_comparison_left.shape[0]],\n",
    "                   'Columns_after_join':[plan_comparison_left.shape[1]],\n",
    "                   'Expected_rows_after_Join':[rows_PC_left_before_join],\n",
    "                   'Expected_columns_after_join':[ex_col_ben],\n",
    "                   'Join_on':['bid_id and State']})\n",
    "join_check = join_check.append(jc,ignore_index=True)\n"
   ]
  },
  {
   "cell_type": "code",
   "execution_count": 169,
   "metadata": {},
   "outputs": [],
   "source": [
    "desc= pd.read_csv(\"C:\\\\Users\\\\jishu.dayal\\\\Desktop\\\\PC_2021\\\\input\\\\Desc_uniq_2021.csv\", engine='python')\n"
   ]
  },
  {
   "cell_type": "code",
   "execution_count": 170,
   "metadata": {},
   "outputs": [],
   "source": [
    "rows_PC_left_before_join = plan_comparison_left.shape[0]\n",
    "columns_PC_left_before_join = plan_comparison_left.shape[1]\n"
   ]
  },
  {
   "cell_type": "code",
   "execution_count": 171,
   "metadata": {},
   "outputs": [],
   "source": [
    "ex_col_ben = (columns_PC_left_before_join) + (desc.shape[1]) - 1\n"
   ]
  },
  {
   "cell_type": "code",
   "execution_count": 172,
   "metadata": {},
   "outputs": [],
   "source": [
    "plan_comparison_left=plan_comparison_left.merge(desc, left_on = 'key_cross', right_on = 'cp_id_2021', how = 'left')\n"
   ]
  },
  {
   "cell_type": "code",
   "execution_count": 173,
   "metadata": {},
   "outputs": [],
   "source": [
    "jc = pd.DataFrame({'Dataframe':['PC_left + desc'],\n",
    "                   'Rows before join':[f\"{rows_PC_left_before_join} and  {desc.shape[0]}\"],\n",
    "                   'Columns before join':[f\"{columns_PC_left_before_join} and {desc.shape[1]}\"],\n",
    "                   'Rows_after_join':[plan_comparison_left.shape[0]],\n",
    "                   'Columns_after_join':[plan_comparison_left.shape[1]],\n",
    "                   'Expected_rows_after_Join':[rows_PC_left_before_join],\n",
    "                   'Expected_columns_after_join':[ex_col_ben],\n",
    "                   'Join_on':['key_cross and cp_id_2021']})\n",
    "join_check = join_check.append(jc,ignore_index=True)\n"
   ]
  },
  {
   "cell_type": "code",
   "execution_count": 174,
   "metadata": {},
   "outputs": [],
   "source": [
    "plan_comparison_left =plan_comparison_left.drop(['cp_id_2021'],axis=1)\n"
   ]
  },
  {
   "cell_type": "code",
   "execution_count": 175,
   "metadata": {},
   "outputs": [],
   "source": [
    "plan_comparison_left['Contract']=plan_comparison_left['Key_Segment'].str[:5]\n"
   ]
  },
  {
   "cell_type": "code",
   "execution_count": 176,
   "metadata": {},
   "outputs": [],
   "source": [
    "star_2021=pd.read_csv(\"C:\\\\Users\\\\jishu.dayal\\\\Desktop\\\\PC_2021\\\\input\\\\2021_Star_Ratings.csv\", engine='python')\n"
   ]
  },
  {
   "cell_type": "code",
   "execution_count": 177,
   "metadata": {},
   "outputs": [],
   "source": [
    "rows_PC_left_before_join = plan_comparison_left.shape[0]\n",
    "columns_PC_left_before_join = plan_comparison_left.shape[1]\n"
   ]
  },
  {
   "cell_type": "code",
   "execution_count": 178,
   "metadata": {},
   "outputs": [],
   "source": [
    "ex_col_ben = (columns_PC_left_before_join) + (star_2021.shape[1]) - 1\n"
   ]
  },
  {
   "cell_type": "code",
   "execution_count": 179,
   "metadata": {},
   "outputs": [],
   "source": [
    "plan_comparison_left=plan_comparison_left.merge(star_2021, left_on = 'Contract', right_on = 'Contract_ID', how = 'left')\n"
   ]
  },
  {
   "cell_type": "code",
   "execution_count": 180,
   "metadata": {},
   "outputs": [],
   "source": [
    "jc = pd.DataFrame({'Dataframe':['PC_left + star_2021'],\n",
    "                   'Rows before join':[f\"{rows_PC_left_before_join} and  {star_2021.shape[0]}\"],\n",
    "                   'Columns before join':[f\"{columns_PC_left_before_join} and {star_2021.shape[1]}\"],\n",
    "                   'Rows_after_join':[plan_comparison_left.shape[0]],\n",
    "                   'Columns_after_join':[plan_comparison_left.shape[1]],\n",
    "                   'Expected_rows_after_Join':[rows_PC_left_before_join],\n",
    "                   'Expected_columns_after_join':[ex_col_ben],\n",
    "                   'Join_on':['Contract_ID']})\n",
    "join_check = join_check.append(jc,ignore_index=True)\n"
   ]
  },
  {
   "cell_type": "code",
   "execution_count": 181,
   "metadata": {},
   "outputs": [
    {
     "data": {
      "text/plain": [
       "array(['4', '4.5', '3.5', '5', 'Plan too new to be measured', '3', '2.5',\n",
       "       'Not enough data available'], dtype=object)"
      ]
     },
     "execution_count": 181,
     "metadata": {},
     "output_type": "execute_result"
    }
   ],
   "source": [
    "plan_comparison_left =plan_comparison_left.drop(['Contract_ID'],axis=1)\n",
    "\n",
    "plan_comparison_left['Overall Star Rating'].unique()"
   ]
  },
  {
   "cell_type": "code",
   "execution_count": 182,
   "metadata": {},
   "outputs": [],
   "source": [
    "rows_PC_left_before_join = plan_comparison_left.shape[0]\n"
   ]
  },
  {
   "cell_type": "code",
   "execution_count": 183,
   "metadata": {},
   "outputs": [],
   "source": [
    "columns_PC_left_before_join = plan_comparison_left.shape[0]\n"
   ]
  },
  {
   "cell_type": "code",
   "execution_count": 184,
   "metadata": {},
   "outputs": [],
   "source": [
    "ex_col_ben = (columns_PC_left_before_join) + (OOPC_new_left_columns.shape[1]) - 1\n"
   ]
  },
  {
   "cell_type": "code",
   "execution_count": 185,
   "metadata": {},
   "outputs": [],
   "source": [
    "plan_comparison_left_with_OOPC = plan_comparison_left.merge(OOPC_new_left_columns, left_on = 'bid_id', right_on = 'Bid_Id', how = 'left')\n"
   ]
  },
  {
   "cell_type": "code",
   "execution_count": 186,
   "metadata": {},
   "outputs": [],
   "source": [
    "jc = pd.DataFrame({'Dataframe':['PC_left + OOPC_left'],\n",
    "                   'Rows before join':[f\"{rows_PC_left_before_join} and  {OOPC_new_left_columns.shape[0]}\"],\n",
    "                   'Columns before join':[f\"{columns_PC_left_before_join} and {OOPC_new_left_columns.shape[1]}\"],\n",
    "                   'Rows_after_join':[plan_comparison_left_with_OOPC.shape[0]],\n",
    "                   'Columns_after_join':[plan_comparison_left_with_OOPC.shape[1]],\n",
    "                   'Expected_rows_after_Join':[rows_PC_left_before_join],\n",
    "                   'Expected_columns_after_join':[ex_col_ben],\n",
    "                   'Join_on':['Bid_Id']})\n",
    "join_check = join_check.append(jc,ignore_index=True)"
   ]
  },
  {
   "cell_type": "code",
   "execution_count": 187,
   "metadata": {},
   "outputs": [],
   "source": [
    "plan_comparison_left_with_OOPC = plan_comparison_left_with_OOPC.drop(['Bid_Id'], axis=1) \n"
   ]
  },
  {
   "cell_type": "code",
   "execution_count": 188,
   "metadata": {},
   "outputs": [],
   "source": [
    "plan_value = pd.read_csv(\"C:\\\\Users\\\\jishu.dayal\\\\Desktop\\\\PC_2021\\\\input\\\\TPV_2021_v2.csv\",engine='python')\n"
   ]
  },
  {
   "cell_type": "code",
   "execution_count": 189,
   "metadata": {},
   "outputs": [],
   "source": [
    "rows_PC_left_before_join = plan_comparison_left_with_OOPC.shape[0]\n",
    "columns_PC_left_before_join = plan_comparison_left_with_OOPC.shape[1]\n"
   ]
  },
  {
   "cell_type": "code",
   "execution_count": 190,
   "metadata": {},
   "outputs": [],
   "source": [
    "ex_col_ben = (columns_PC_left_before_join) + (plan_value.shape[1]) - 1\n"
   ]
  },
  {
   "cell_type": "code",
   "execution_count": 191,
   "metadata": {},
   "outputs": [],
   "source": [
    "plan_comparison_left_with_OOPC=plan_comparison_left_with_OOPC.merge(plan_value,left_on =['State','County','bid_id'],right_on = ['State','County','bid_id'], how = 'left')\n"
   ]
  },
  {
   "cell_type": "code",
   "execution_count": 192,
   "metadata": {},
   "outputs": [],
   "source": [
    "jc = pd.DataFrame({'Dataframe':['PC_left + plan_value'],\n",
    "                   'Rows before join':[f\"{rows_PC_left_before_join} and  {plan_value.shape[0]}\"],\n",
    "                   'Columns before join':[f\"{columns_PC_left_before_join} and {plan_value.shape[1]}\"],\n",
    "                   'Rows_after_join':[plan_comparison_left_with_OOPC.shape[0]],\n",
    "                   'Columns_after_join':[plan_comparison_left_with_OOPC.shape[1]],\n",
    "                   'Expected_rows_after_Join':[rows_PC_left_before_join],\n",
    "                   'Expected_columns_after_join':[ex_col_ben],\n",
    "                   'Join_on':['State and Bid_Id']})\n",
    "\n",
    "join_check = join_check.append(jc,ignore_index=True)\n"
   ]
  },
  {
   "cell_type": "code",
   "execution_count": 193,
   "metadata": {},
   "outputs": [],
   "source": [
    "plan_comparison_left_with_OOPC.to_csv(\"C:\\\\Users\\\\jishu.dayal\\\\Desktop\\\\PC_2021\\\\input\\\\PC_Lscape_input.csv\",index=False)\n"
   ]
  },
  {
   "cell_type": "code",
   "execution_count": 194,
   "metadata": {},
   "outputs": [],
   "source": [
    "benefit_file_with_OOPC_unpivot.rename(columns={'bid_id':'Bid_Id'},inplace = True)\n"
   ]
  },
  {
   "cell_type": "code",
   "execution_count": 195,
   "metadata": {},
   "outputs": [],
   "source": [
    "plan_comparison_left_with_OOPC=pd.read_csv(\"C:\\\\Users\\\\jishu.dayal\\\\Desktop\\\\PC_2021\\\\input\\\\PC_Lscape_input.csv\",engine='python')\n"
   ]
  },
  {
   "cell_type": "code",
   "execution_count": 196,
   "metadata": {},
   "outputs": [],
   "source": [
    "enr_dec=pd.read_csv(\"C:\\\\Users\\\\jishu.dayal\\\\Desktop\\\\PC_2021\\\\input\\\\enr_allFebruary_2021.csv\", engine='python')\n"
   ]
  },
  {
   "cell_type": "code",
   "execution_count": 197,
   "metadata": {},
   "outputs": [],
   "source": [
    "enr_dec=enr_dec.rename(columns = {'State' : 'statecode' })\n"
   ]
  },
  {
   "cell_type": "code",
   "execution_count": 198,
   "metadata": {},
   "outputs": [],
   "source": [
    "rows_OOPC_before_join = plan_comparison_left_with_OOPC.shape[0]\n",
    "\n",
    "columns_OOPC_before_join = plan_comparison_left_with_OOPC.shape[1]\n"
   ]
  },
  {
   "cell_type": "code",
   "execution_count": 199,
   "metadata": {},
   "outputs": [],
   "source": [
    "plan_comparison_left_with_OOPC=plan_comparison_left_with_OOPC.merge(enr_dec,left_on = ['statecode','County','key_cross'], right_on = ['statecode','County','cpid_21'], how = 'left')"
   ]
  },
  {
   "cell_type": "code",
   "execution_count": 204,
   "metadata": {},
   "outputs": [
    {
     "data": {
      "text/html": [
       "<div>\n",
       "<style scoped>\n",
       "    .dataframe tbody tr th:only-of-type {\n",
       "        vertical-align: middle;\n",
       "    }\n",
       "\n",
       "    .dataframe tbody tr th {\n",
       "        vertical-align: top;\n",
       "    }\n",
       "\n",
       "    .dataframe thead th {\n",
       "        text-align: right;\n",
       "    }\n",
       "</style>\n",
       "<table border=\"1\" class=\"dataframe\">\n",
       "  <thead>\n",
       "    <tr style=\"text-align: right;\">\n",
       "      <th></th>\n",
       "      <th>statecode</th>\n",
       "      <th>County</th>\n",
       "      <th>State</th>\n",
       "      <th>Plan_Name</th>\n",
       "      <th>plan_type</th>\n",
       "      <th>Monthly_Consolidated_Premium_C_D</th>\n",
       "      <th>bid_id</th>\n",
       "      <th>Key_Segment</th>\n",
       "      <th>key_cross</th>\n",
       "      <th>parent_organization</th>\n",
       "      <th>...</th>\n",
       "      <th>June_2020</th>\n",
       "      <th>July_2020</th>\n",
       "      <th>August_2020</th>\n",
       "      <th>September_2020</th>\n",
       "      <th>October_2020</th>\n",
       "      <th>November_2020</th>\n",
       "      <th>December_2020</th>\n",
       "      <th>January_2021</th>\n",
       "      <th>February_2021</th>\n",
       "      <th>Enr_Latest</th>\n",
       "    </tr>\n",
       "  </thead>\n",
       "  <tbody>\n",
       "    <tr>\n",
       "      <th>0</th>\n",
       "      <td>AL</td>\n",
       "      <td>Autauga</td>\n",
       "      <td>Alabama</td>\n",
       "      <td>Blue Advantage Complete (PPO)</td>\n",
       "      <td>Local PPO</td>\n",
       "      <td>0.0</td>\n",
       "      <td>H0104_012_0</td>\n",
       "      <td>H0104-012-000</td>\n",
       "      <td>H0104-012</td>\n",
       "      <td>BlueCross BlueShield of Alabama</td>\n",
       "      <td>...</td>\n",
       "      <td>592.0</td>\n",
       "      <td>597.0</td>\n",
       "      <td>599.0</td>\n",
       "      <td>606.0</td>\n",
       "      <td>613.0</td>\n",
       "      <td>616.0</td>\n",
       "      <td>616.0</td>\n",
       "      <td>656.0</td>\n",
       "      <td>662.0</td>\n",
       "      <td>662.0</td>\n",
       "    </tr>\n",
       "    <tr>\n",
       "      <th>1</th>\n",
       "      <td>AL</td>\n",
       "      <td>Barbour</td>\n",
       "      <td>Alabama</td>\n",
       "      <td>Blue Advantage Complete (PPO)</td>\n",
       "      <td>Local PPO</td>\n",
       "      <td>0.0</td>\n",
       "      <td>H0104_012_0</td>\n",
       "      <td>H0104-012-000</td>\n",
       "      <td>H0104-012</td>\n",
       "      <td>BlueCross BlueShield of Alabama</td>\n",
       "      <td>...</td>\n",
       "      <td>307.0</td>\n",
       "      <td>308.0</td>\n",
       "      <td>308.0</td>\n",
       "      <td>309.0</td>\n",
       "      <td>310.0</td>\n",
       "      <td>313.0</td>\n",
       "      <td>321.0</td>\n",
       "      <td>336.0</td>\n",
       "      <td>335.0</td>\n",
       "      <td>335.0</td>\n",
       "    </tr>\n",
       "    <tr>\n",
       "      <th>2</th>\n",
       "      <td>AL</td>\n",
       "      <td>Blount</td>\n",
       "      <td>Alabama</td>\n",
       "      <td>Blue Advantage Complete (PPO)</td>\n",
       "      <td>Local PPO</td>\n",
       "      <td>0.0</td>\n",
       "      <td>H0104_012_0</td>\n",
       "      <td>H0104-012-000</td>\n",
       "      <td>H0104-012</td>\n",
       "      <td>BlueCross BlueShield of Alabama</td>\n",
       "      <td>...</td>\n",
       "      <td>1191.0</td>\n",
       "      <td>1199.0</td>\n",
       "      <td>1210.0</td>\n",
       "      <td>1218.0</td>\n",
       "      <td>1229.0</td>\n",
       "      <td>1230.0</td>\n",
       "      <td>1239.0</td>\n",
       "      <td>1296.0</td>\n",
       "      <td>1308.0</td>\n",
       "      <td>1308.0</td>\n",
       "    </tr>\n",
       "    <tr>\n",
       "      <th>3</th>\n",
       "      <td>AL</td>\n",
       "      <td>Bullock</td>\n",
       "      <td>Alabama</td>\n",
       "      <td>Blue Advantage Complete (PPO)</td>\n",
       "      <td>Local PPO</td>\n",
       "      <td>0.0</td>\n",
       "      <td>H0104_012_0</td>\n",
       "      <td>H0104-012-000</td>\n",
       "      <td>H0104-012</td>\n",
       "      <td>BlueCross BlueShield of Alabama</td>\n",
       "      <td>...</td>\n",
       "      <td>104.0</td>\n",
       "      <td>105.0</td>\n",
       "      <td>104.0</td>\n",
       "      <td>105.0</td>\n",
       "      <td>107.0</td>\n",
       "      <td>110.0</td>\n",
       "      <td>112.0</td>\n",
       "      <td>139.0</td>\n",
       "      <td>142.0</td>\n",
       "      <td>142.0</td>\n",
       "    </tr>\n",
       "    <tr>\n",
       "      <th>4</th>\n",
       "      <td>AL</td>\n",
       "      <td>Butler</td>\n",
       "      <td>Alabama</td>\n",
       "      <td>Blue Advantage Complete (PPO)</td>\n",
       "      <td>Local PPO</td>\n",
       "      <td>0.0</td>\n",
       "      <td>H0104_012_0</td>\n",
       "      <td>H0104-012-000</td>\n",
       "      <td>H0104-012</td>\n",
       "      <td>BlueCross BlueShield of Alabama</td>\n",
       "      <td>...</td>\n",
       "      <td>618.0</td>\n",
       "      <td>620.0</td>\n",
       "      <td>631.0</td>\n",
       "      <td>628.0</td>\n",
       "      <td>626.0</td>\n",
       "      <td>629.0</td>\n",
       "      <td>628.0</td>\n",
       "      <td>671.0</td>\n",
       "      <td>691.0</td>\n",
       "      <td>691.0</td>\n",
       "    </tr>\n",
       "  </tbody>\n",
       "</table>\n",
       "<p>5 rows × 94 columns</p>\n",
       "</div>"
      ],
      "text/plain": [
       "  statecode   County    State                      Plan_Name  plan_type  \\\n",
       "0        AL  Autauga  Alabama  Blue Advantage Complete (PPO)  Local PPO   \n",
       "1        AL  Barbour  Alabama  Blue Advantage Complete (PPO)  Local PPO   \n",
       "2        AL   Blount  Alabama  Blue Advantage Complete (PPO)  Local PPO   \n",
       "3        AL  Bullock  Alabama  Blue Advantage Complete (PPO)  Local PPO   \n",
       "4        AL   Butler  Alabama  Blue Advantage Complete (PPO)  Local PPO   \n",
       "\n",
       "   Monthly_Consolidated_Premium_C_D       bid_id    Key_Segment  key_cross  \\\n",
       "0                               0.0  H0104_012_0  H0104-012-000  H0104-012   \n",
       "1                               0.0  H0104_012_0  H0104-012-000  H0104-012   \n",
       "2                               0.0  H0104_012_0  H0104-012-000  H0104-012   \n",
       "3                               0.0  H0104_012_0  H0104-012-000  H0104-012   \n",
       "4                               0.0  H0104_012_0  H0104-012-000  H0104-012   \n",
       "\n",
       "               parent_organization  ...  June_2020  July_2020 August_2020  \\\n",
       "0  BlueCross BlueShield of Alabama  ...      592.0      597.0       599.0   \n",
       "1  BlueCross BlueShield of Alabama  ...      307.0      308.0       308.0   \n",
       "2  BlueCross BlueShield of Alabama  ...     1191.0     1199.0      1210.0   \n",
       "3  BlueCross BlueShield of Alabama  ...      104.0      105.0       104.0   \n",
       "4  BlueCross BlueShield of Alabama  ...      618.0      620.0       631.0   \n",
       "\n",
       "  September_2020  October_2020 November_2020  December_2020  January_2021  \\\n",
       "0          606.0         613.0         616.0          616.0         656.0   \n",
       "1          309.0         310.0         313.0          321.0         336.0   \n",
       "2         1218.0        1229.0        1230.0         1239.0        1296.0   \n",
       "3          105.0         107.0         110.0          112.0         139.0   \n",
       "4          628.0         626.0         629.0          628.0         671.0   \n",
       "\n",
       "  February_2021  Enr_Latest  \n",
       "0         662.0       662.0  \n",
       "1         335.0       335.0  \n",
       "2        1308.0      1308.0  \n",
       "3         142.0       142.0  \n",
       "4         691.0       691.0  \n",
       "\n",
       "[5 rows x 94 columns]"
      ]
     },
     "execution_count": 204,
     "metadata": {},
     "output_type": "execute_result"
    }
   ],
   "source": [
    "plan_comparison_left_with_OOPC.head()"
   ]
  },
  {
   "cell_type": "code",
   "execution_count": 200,
   "metadata": {},
   "outputs": [],
   "source": [
    "ex_col_ben = (columns_OOPC_before_join) + (enr_dec.shape[1]) - 1\n"
   ]
  },
  {
   "cell_type": "code",
   "execution_count": 205,
   "metadata": {},
   "outputs": [],
   "source": [
    "jc = pd.DataFrame({'Dataframe':['PC_left + enr_dec'],\n",
    "                   'Rows before join':[f\"{rows_OOPC_before_join} and  {enr_dec.shape[0]}\"],\n",
    "                   'Columns before join':[f\"{columns_OOPC_before_join} and {enr_dec.shape[1]}\"],\n",
    "                   'Rows_after_join':[plan_comparison_left_with_OOPC.shape[0]],\n",
    "                   'Columns_after_join':[plan_comparison_left_with_OOPC.shape[1]],\n",
    "                   'Expected_rows_after_Join':[rows_OOPC_before_join],\n",
    "                   'Expected_columns_after_join':[ex_col_ben],\n",
    "                   'Join_on':['State and key_cross']})\n",
    "\n",
    "join_check = join_check.append(jc,ignore_index=True)\n"
   ]
  },
  {
   "cell_type": "code",
   "execution_count": null,
   "metadata": {},
   "outputs": [],
   "source": []
  },
  {
   "cell_type": "code",
   "execution_count": 206,
   "metadata": {},
   "outputs": [],
   "source": [
    "plan_comparison_left_with_OOPC['Enr_Latest'] = plan_comparison_left_with_OOPC['February_2021']\n"
   ]
  },
  {
   "cell_type": "code",
   "execution_count": 207,
   "metadata": {},
   "outputs": [
    {
     "data": {
      "text/html": [
       "<div>\n",
       "<style scoped>\n",
       "    .dataframe tbody tr th:only-of-type {\n",
       "        vertical-align: middle;\n",
       "    }\n",
       "\n",
       "    .dataframe tbody tr th {\n",
       "        vertical-align: top;\n",
       "    }\n",
       "\n",
       "    .dataframe thead th {\n",
       "        text-align: right;\n",
       "    }\n",
       "</style>\n",
       "<table border=\"1\" class=\"dataframe\">\n",
       "  <thead>\n",
       "    <tr style=\"text-align: right;\">\n",
       "      <th></th>\n",
       "      <th>statecode</th>\n",
       "      <th>County</th>\n",
       "      <th>State</th>\n",
       "      <th>Plan_Name</th>\n",
       "      <th>plan_type</th>\n",
       "      <th>Monthly_Consolidated_Premium_C_D</th>\n",
       "      <th>bid_id</th>\n",
       "      <th>Key_Segment</th>\n",
       "      <th>key_cross</th>\n",
       "      <th>parent_organization</th>\n",
       "      <th>...</th>\n",
       "      <th>June_2020</th>\n",
       "      <th>July_2020</th>\n",
       "      <th>August_2020</th>\n",
       "      <th>September_2020</th>\n",
       "      <th>October_2020</th>\n",
       "      <th>November_2020</th>\n",
       "      <th>December_2020</th>\n",
       "      <th>January_2021</th>\n",
       "      <th>February_2021</th>\n",
       "      <th>Enr_Latest</th>\n",
       "    </tr>\n",
       "  </thead>\n",
       "  <tbody>\n",
       "    <tr>\n",
       "      <th>0</th>\n",
       "      <td>AL</td>\n",
       "      <td>Autauga</td>\n",
       "      <td>Alabama</td>\n",
       "      <td>Blue Advantage Complete (PPO)</td>\n",
       "      <td>Local PPO</td>\n",
       "      <td>0.0</td>\n",
       "      <td>H0104_012_0</td>\n",
       "      <td>H0104-012-000</td>\n",
       "      <td>H0104-012</td>\n",
       "      <td>BlueCross BlueShield of Alabama</td>\n",
       "      <td>...</td>\n",
       "      <td>592.0</td>\n",
       "      <td>597.0</td>\n",
       "      <td>599.0</td>\n",
       "      <td>606.0</td>\n",
       "      <td>613.0</td>\n",
       "      <td>616.0</td>\n",
       "      <td>616.0</td>\n",
       "      <td>656.0</td>\n",
       "      <td>662.0</td>\n",
       "      <td>662.0</td>\n",
       "    </tr>\n",
       "    <tr>\n",
       "      <th>1</th>\n",
       "      <td>AL</td>\n",
       "      <td>Barbour</td>\n",
       "      <td>Alabama</td>\n",
       "      <td>Blue Advantage Complete (PPO)</td>\n",
       "      <td>Local PPO</td>\n",
       "      <td>0.0</td>\n",
       "      <td>H0104_012_0</td>\n",
       "      <td>H0104-012-000</td>\n",
       "      <td>H0104-012</td>\n",
       "      <td>BlueCross BlueShield of Alabama</td>\n",
       "      <td>...</td>\n",
       "      <td>307.0</td>\n",
       "      <td>308.0</td>\n",
       "      <td>308.0</td>\n",
       "      <td>309.0</td>\n",
       "      <td>310.0</td>\n",
       "      <td>313.0</td>\n",
       "      <td>321.0</td>\n",
       "      <td>336.0</td>\n",
       "      <td>335.0</td>\n",
       "      <td>335.0</td>\n",
       "    </tr>\n",
       "    <tr>\n",
       "      <th>2</th>\n",
       "      <td>AL</td>\n",
       "      <td>Blount</td>\n",
       "      <td>Alabama</td>\n",
       "      <td>Blue Advantage Complete (PPO)</td>\n",
       "      <td>Local PPO</td>\n",
       "      <td>0.0</td>\n",
       "      <td>H0104_012_0</td>\n",
       "      <td>H0104-012-000</td>\n",
       "      <td>H0104-012</td>\n",
       "      <td>BlueCross BlueShield of Alabama</td>\n",
       "      <td>...</td>\n",
       "      <td>1191.0</td>\n",
       "      <td>1199.0</td>\n",
       "      <td>1210.0</td>\n",
       "      <td>1218.0</td>\n",
       "      <td>1229.0</td>\n",
       "      <td>1230.0</td>\n",
       "      <td>1239.0</td>\n",
       "      <td>1296.0</td>\n",
       "      <td>1308.0</td>\n",
       "      <td>1308.0</td>\n",
       "    </tr>\n",
       "    <tr>\n",
       "      <th>3</th>\n",
       "      <td>AL</td>\n",
       "      <td>Bullock</td>\n",
       "      <td>Alabama</td>\n",
       "      <td>Blue Advantage Complete (PPO)</td>\n",
       "      <td>Local PPO</td>\n",
       "      <td>0.0</td>\n",
       "      <td>H0104_012_0</td>\n",
       "      <td>H0104-012-000</td>\n",
       "      <td>H0104-012</td>\n",
       "      <td>BlueCross BlueShield of Alabama</td>\n",
       "      <td>...</td>\n",
       "      <td>104.0</td>\n",
       "      <td>105.0</td>\n",
       "      <td>104.0</td>\n",
       "      <td>105.0</td>\n",
       "      <td>107.0</td>\n",
       "      <td>110.0</td>\n",
       "      <td>112.0</td>\n",
       "      <td>139.0</td>\n",
       "      <td>142.0</td>\n",
       "      <td>142.0</td>\n",
       "    </tr>\n",
       "    <tr>\n",
       "      <th>4</th>\n",
       "      <td>AL</td>\n",
       "      <td>Butler</td>\n",
       "      <td>Alabama</td>\n",
       "      <td>Blue Advantage Complete (PPO)</td>\n",
       "      <td>Local PPO</td>\n",
       "      <td>0.0</td>\n",
       "      <td>H0104_012_0</td>\n",
       "      <td>H0104-012-000</td>\n",
       "      <td>H0104-012</td>\n",
       "      <td>BlueCross BlueShield of Alabama</td>\n",
       "      <td>...</td>\n",
       "      <td>618.0</td>\n",
       "      <td>620.0</td>\n",
       "      <td>631.0</td>\n",
       "      <td>628.0</td>\n",
       "      <td>626.0</td>\n",
       "      <td>629.0</td>\n",
       "      <td>628.0</td>\n",
       "      <td>671.0</td>\n",
       "      <td>691.0</td>\n",
       "      <td>691.0</td>\n",
       "    </tr>\n",
       "  </tbody>\n",
       "</table>\n",
       "<p>5 rows × 94 columns</p>\n",
       "</div>"
      ],
      "text/plain": [
       "  statecode   County    State                      Plan_Name  plan_type  \\\n",
       "0        AL  Autauga  Alabama  Blue Advantage Complete (PPO)  Local PPO   \n",
       "1        AL  Barbour  Alabama  Blue Advantage Complete (PPO)  Local PPO   \n",
       "2        AL   Blount  Alabama  Blue Advantage Complete (PPO)  Local PPO   \n",
       "3        AL  Bullock  Alabama  Blue Advantage Complete (PPO)  Local PPO   \n",
       "4        AL   Butler  Alabama  Blue Advantage Complete (PPO)  Local PPO   \n",
       "\n",
       "   Monthly_Consolidated_Premium_C_D       bid_id    Key_Segment  key_cross  \\\n",
       "0                               0.0  H0104_012_0  H0104-012-000  H0104-012   \n",
       "1                               0.0  H0104_012_0  H0104-012-000  H0104-012   \n",
       "2                               0.0  H0104_012_0  H0104-012-000  H0104-012   \n",
       "3                               0.0  H0104_012_0  H0104-012-000  H0104-012   \n",
       "4                               0.0  H0104_012_0  H0104-012-000  H0104-012   \n",
       "\n",
       "               parent_organization  ...  June_2020  July_2020 August_2020  \\\n",
       "0  BlueCross BlueShield of Alabama  ...      592.0      597.0       599.0   \n",
       "1  BlueCross BlueShield of Alabama  ...      307.0      308.0       308.0   \n",
       "2  BlueCross BlueShield of Alabama  ...     1191.0     1199.0      1210.0   \n",
       "3  BlueCross BlueShield of Alabama  ...      104.0      105.0       104.0   \n",
       "4  BlueCross BlueShield of Alabama  ...      618.0      620.0       631.0   \n",
       "\n",
       "  September_2020  October_2020 November_2020  December_2020  January_2021  \\\n",
       "0          606.0         613.0         616.0          616.0         656.0   \n",
       "1          309.0         310.0         313.0          321.0         336.0   \n",
       "2         1218.0        1229.0        1230.0         1239.0        1296.0   \n",
       "3          105.0         107.0         110.0          112.0         139.0   \n",
       "4          628.0         626.0         629.0          628.0         671.0   \n",
       "\n",
       "  February_2021  Enr_Latest  \n",
       "0         662.0       662.0  \n",
       "1         335.0       335.0  \n",
       "2        1308.0      1308.0  \n",
       "3         142.0       142.0  \n",
       "4         691.0       691.0  \n",
       "\n",
       "[5 rows x 94 columns]"
      ]
     },
     "execution_count": 207,
     "metadata": {},
     "output_type": "execute_result"
    }
   ],
   "source": [
    "plan_comparison_left_with_OOPC.head()"
   ]
  },
  {
   "cell_type": "code",
   "execution_count": 208,
   "metadata": {},
   "outputs": [],
   "source": [
    "column_list = [\"March_2021\",\"April_2021\",\"May_2021\",\"June_2021\",\"July_2021\",\"August_2021\",\"September_2021\",\"October_2021\"]\n"
   ]
  },
  {
   "cell_type": "code",
   "execution_count": 209,
   "metadata": {},
   "outputs": [
    {
     "data": {
      "text/plain": [
       "['March_2021',\n",
       " 'April_2021',\n",
       " 'May_2021',\n",
       " 'June_2021',\n",
       " 'July_2021',\n",
       " 'August_2021',\n",
       " 'September_2021',\n",
       " 'October_2021']"
      ]
     },
     "execution_count": 209,
     "metadata": {},
     "output_type": "execute_result"
    }
   ],
   "source": [
    "column_list"
   ]
  },
  {
   "cell_type": "code",
   "execution_count": 210,
   "metadata": {},
   "outputs": [
    {
     "name": "stdout",
     "output_type": "stream",
     "text": [
      "Index(['statecode', 'County', 'State', 'Plan_Name', 'plan_type',\n",
      "       'Monthly_Consolidated_Premium_C_D', 'bid_id', 'Key_Segment',\n",
      "       'key_cross', 'parent_organization', 'Premium_C_new', 'Premium_D_new',\n",
      "       'Special_Needs_Plan_Type', 'Combined_Counties', 'counties_cnt',\n",
      "       'Plan_Coverage', 'In_Network_MOOP_Amount', 'pbp_d_mco_pay_reduct_amt',\n",
      "       'Deductible_Health', 'pbp_d_inn_deduct_yn', 'pbp_d_inn_deduct_partb_yn',\n",
      "       'pbp_d_inn_deduct_amt', 'pbp_d_oon_deduct_yn',\n",
      "       'pbp_d_oon_deduct_partb_yn', 'pbp_d_oon_deduct_amt',\n",
      "       'pbp_d_comb_deduct_yn', 'pbp_d_comb_deduct_partb_yn',\n",
      "       'pbp_d_comb_deduct_amt', 'pbp_d_comb_max_enr_amt_yn',\n",
      "       'pbp_d_comb_max_enr_amt_type', 'pbp_d_comb_max_enr_amt',\n",
      "       'pbp_d_mco_pay_reduct_yn', 'Annual_Drug_Deductible', 'DESCRIPTION',\n",
      "       'Contract', 'Overall Star Rating', 'Grand_Total', 'Actuarial',\n",
      "       'TEG_Plan_Value_Total', 'TEG_Plan_Value_PartC', 'TEG_Plan_Value_PartD',\n",
      "       'Supplemental_Benefit_Value', 'cpid_21', 'April_2017', 'August_2017',\n",
      "       'December_2017', 'February_2017', 'January_2017', 'July_2017',\n",
      "       'June_2017', 'March_2017', 'May_2017', 'November_2017', 'October_2017',\n",
      "       'September_2017', 'April_2018', 'August_2018', 'December_2018',\n",
      "       'February_2018', 'January_2018', 'July_2018', 'June_2018', 'March_2018',\n",
      "       'May_2018', 'November_2018', 'October_2018', 'September_2018',\n",
      "       'April_2019', 'August_2019', 'December_2019', 'February_2019',\n",
      "       'January_2019', 'July_2019', 'June_2019', 'March_2019', 'May_2019',\n",
      "       'November_2019', 'October_2019', 'September_2019', 'January_2020',\n",
      "       'February_2020', 'March_2020', 'April_2020', 'May_2020', 'June_2020',\n",
      "       'July_2020', 'August_2020', 'September_2020', 'October_2020',\n",
      "       'November_2020', 'December_2020', 'January_2021', 'February_2021',\n",
      "       'Enr_Latest', 'March_2021'],\n",
      "      dtype='object')\n",
      "Index(['statecode', 'County', 'State', 'Plan_Name', 'plan_type',\n",
      "       'Monthly_Consolidated_Premium_C_D', 'bid_id', 'Key_Segment',\n",
      "       'key_cross', 'parent_organization', 'Premium_C_new', 'Premium_D_new',\n",
      "       'Special_Needs_Plan_Type', 'Combined_Counties', 'counties_cnt',\n",
      "       'Plan_Coverage', 'In_Network_MOOP_Amount', 'pbp_d_mco_pay_reduct_amt',\n",
      "       'Deductible_Health', 'pbp_d_inn_deduct_yn', 'pbp_d_inn_deduct_partb_yn',\n",
      "       'pbp_d_inn_deduct_amt', 'pbp_d_oon_deduct_yn',\n",
      "       'pbp_d_oon_deduct_partb_yn', 'pbp_d_oon_deduct_amt',\n",
      "       'pbp_d_comb_deduct_yn', 'pbp_d_comb_deduct_partb_yn',\n",
      "       'pbp_d_comb_deduct_amt', 'pbp_d_comb_max_enr_amt_yn',\n",
      "       'pbp_d_comb_max_enr_amt_type', 'pbp_d_comb_max_enr_amt',\n",
      "       'pbp_d_mco_pay_reduct_yn', 'Annual_Drug_Deductible', 'DESCRIPTION',\n",
      "       'Contract', 'Overall Star Rating', 'Grand_Total', 'Actuarial',\n",
      "       'TEG_Plan_Value_Total', 'TEG_Plan_Value_PartC', 'TEG_Plan_Value_PartD',\n",
      "       'Supplemental_Benefit_Value', 'cpid_21', 'April_2017', 'August_2017',\n",
      "       'December_2017', 'February_2017', 'January_2017', 'July_2017',\n",
      "       'June_2017', 'March_2017', 'May_2017', 'November_2017', 'October_2017',\n",
      "       'September_2017', 'April_2018', 'August_2018', 'December_2018',\n",
      "       'February_2018', 'January_2018', 'July_2018', 'June_2018', 'March_2018',\n",
      "       'May_2018', 'November_2018', 'October_2018', 'September_2018',\n",
      "       'April_2019', 'August_2019', 'December_2019', 'February_2019',\n",
      "       'January_2019', 'July_2019', 'June_2019', 'March_2019', 'May_2019',\n",
      "       'November_2019', 'October_2019', 'September_2019', 'January_2020',\n",
      "       'February_2020', 'March_2020', 'April_2020', 'May_2020', 'June_2020',\n",
      "       'July_2020', 'August_2020', 'September_2020', 'October_2020',\n",
      "       'November_2020', 'December_2020', 'January_2021', 'February_2021',\n",
      "       'Enr_Latest', 'March_2021', 'April_2021'],\n",
      "      dtype='object')\n",
      "Index(['statecode', 'County', 'State', 'Plan_Name', 'plan_type',\n",
      "       'Monthly_Consolidated_Premium_C_D', 'bid_id', 'Key_Segment',\n",
      "       'key_cross', 'parent_organization', 'Premium_C_new', 'Premium_D_new',\n",
      "       'Special_Needs_Plan_Type', 'Combined_Counties', 'counties_cnt',\n",
      "       'Plan_Coverage', 'In_Network_MOOP_Amount', 'pbp_d_mco_pay_reduct_amt',\n",
      "       'Deductible_Health', 'pbp_d_inn_deduct_yn', 'pbp_d_inn_deduct_partb_yn',\n",
      "       'pbp_d_inn_deduct_amt', 'pbp_d_oon_deduct_yn',\n",
      "       'pbp_d_oon_deduct_partb_yn', 'pbp_d_oon_deduct_amt',\n",
      "       'pbp_d_comb_deduct_yn', 'pbp_d_comb_deduct_partb_yn',\n",
      "       'pbp_d_comb_deduct_amt', 'pbp_d_comb_max_enr_amt_yn',\n",
      "       'pbp_d_comb_max_enr_amt_type', 'pbp_d_comb_max_enr_amt',\n",
      "       'pbp_d_mco_pay_reduct_yn', 'Annual_Drug_Deductible', 'DESCRIPTION',\n",
      "       'Contract', 'Overall Star Rating', 'Grand_Total', 'Actuarial',\n",
      "       'TEG_Plan_Value_Total', 'TEG_Plan_Value_PartC', 'TEG_Plan_Value_PartD',\n",
      "       'Supplemental_Benefit_Value', 'cpid_21', 'April_2017', 'August_2017',\n",
      "       'December_2017', 'February_2017', 'January_2017', 'July_2017',\n",
      "       'June_2017', 'March_2017', 'May_2017', 'November_2017', 'October_2017',\n",
      "       'September_2017', 'April_2018', 'August_2018', 'December_2018',\n",
      "       'February_2018', 'January_2018', 'July_2018', 'June_2018', 'March_2018',\n",
      "       'May_2018', 'November_2018', 'October_2018', 'September_2018',\n",
      "       'April_2019', 'August_2019', 'December_2019', 'February_2019',\n",
      "       'January_2019', 'July_2019', 'June_2019', 'March_2019', 'May_2019',\n",
      "       'November_2019', 'October_2019', 'September_2019', 'January_2020',\n",
      "       'February_2020', 'March_2020', 'April_2020', 'May_2020', 'June_2020',\n",
      "       'July_2020', 'August_2020', 'September_2020', 'October_2020',\n",
      "       'November_2020', 'December_2020', 'January_2021', 'February_2021',\n",
      "       'Enr_Latest', 'March_2021', 'April_2021', 'May_2021'],\n",
      "      dtype='object')\n",
      "Index(['statecode', 'County', 'State', 'Plan_Name', 'plan_type',\n",
      "       'Monthly_Consolidated_Premium_C_D', 'bid_id', 'Key_Segment',\n",
      "       'key_cross', 'parent_organization', 'Premium_C_new', 'Premium_D_new',\n",
      "       'Special_Needs_Plan_Type', 'Combined_Counties', 'counties_cnt',\n",
      "       'Plan_Coverage', 'In_Network_MOOP_Amount', 'pbp_d_mco_pay_reduct_amt',\n",
      "       'Deductible_Health', 'pbp_d_inn_deduct_yn', 'pbp_d_inn_deduct_partb_yn',\n",
      "       'pbp_d_inn_deduct_amt', 'pbp_d_oon_deduct_yn',\n",
      "       'pbp_d_oon_deduct_partb_yn', 'pbp_d_oon_deduct_amt',\n",
      "       'pbp_d_comb_deduct_yn', 'pbp_d_comb_deduct_partb_yn',\n",
      "       'pbp_d_comb_deduct_amt', 'pbp_d_comb_max_enr_amt_yn',\n",
      "       'pbp_d_comb_max_enr_amt_type', 'pbp_d_comb_max_enr_amt',\n",
      "       'pbp_d_mco_pay_reduct_yn', 'Annual_Drug_Deductible', 'DESCRIPTION',\n",
      "       'Contract', 'Overall Star Rating', 'Grand_Total', 'Actuarial',\n",
      "       'TEG_Plan_Value_Total', 'TEG_Plan_Value_PartC', 'TEG_Plan_Value_PartD',\n",
      "       'Supplemental_Benefit_Value', 'cpid_21', 'April_2017', 'August_2017',\n",
      "       'December_2017', 'February_2017', 'January_2017', 'July_2017',\n",
      "       'June_2017', 'March_2017', 'May_2017', 'November_2017', 'October_2017',\n",
      "       'September_2017', 'April_2018', 'August_2018', 'December_2018',\n",
      "       'February_2018', 'January_2018', 'July_2018', 'June_2018', 'March_2018',\n",
      "       'May_2018', 'November_2018', 'October_2018', 'September_2018',\n",
      "       'April_2019', 'August_2019', 'December_2019', 'February_2019',\n",
      "       'January_2019', 'July_2019', 'June_2019', 'March_2019', 'May_2019',\n",
      "       'November_2019', 'October_2019', 'September_2019', 'January_2020',\n",
      "       'February_2020', 'March_2020', 'April_2020', 'May_2020', 'June_2020',\n",
      "       'July_2020', 'August_2020', 'September_2020', 'October_2020',\n",
      "       'November_2020', 'December_2020', 'January_2021', 'February_2021',\n",
      "       'Enr_Latest', 'March_2021', 'April_2021', 'May_2021', 'June_2021'],\n",
      "      dtype='object')\n",
      "Index(['statecode', 'County', 'State', 'Plan_Name', 'plan_type',\n",
      "       'Monthly_Consolidated_Premium_C_D', 'bid_id', 'Key_Segment',\n",
      "       'key_cross', 'parent_organization', 'Premium_C_new', 'Premium_D_new',\n",
      "       'Special_Needs_Plan_Type', 'Combined_Counties', 'counties_cnt',\n",
      "       'Plan_Coverage', 'In_Network_MOOP_Amount', 'pbp_d_mco_pay_reduct_amt',\n",
      "       'Deductible_Health', 'pbp_d_inn_deduct_yn', 'pbp_d_inn_deduct_partb_yn',\n",
      "       'pbp_d_inn_deduct_amt', 'pbp_d_oon_deduct_yn',\n",
      "       'pbp_d_oon_deduct_partb_yn', 'pbp_d_oon_deduct_amt',\n",
      "       'pbp_d_comb_deduct_yn', 'pbp_d_comb_deduct_partb_yn',\n",
      "       'pbp_d_comb_deduct_amt', 'pbp_d_comb_max_enr_amt_yn',\n",
      "       'pbp_d_comb_max_enr_amt_type', 'pbp_d_comb_max_enr_amt',\n",
      "       'pbp_d_mco_pay_reduct_yn', 'Annual_Drug_Deductible', 'DESCRIPTION',\n",
      "       'Contract', 'Overall Star Rating', 'Grand_Total', 'Actuarial',\n",
      "       'TEG_Plan_Value_Total', 'TEG_Plan_Value_PartC', 'TEG_Plan_Value_PartD',\n",
      "       'Supplemental_Benefit_Value', 'cpid_21', 'April_2017', 'August_2017',\n",
      "       'December_2017', 'February_2017', 'January_2017', 'July_2017',\n",
      "       'June_2017', 'March_2017', 'May_2017', 'November_2017', 'October_2017',\n",
      "       'September_2017', 'April_2018', 'August_2018', 'December_2018',\n",
      "       'February_2018', 'January_2018', 'July_2018', 'June_2018', 'March_2018',\n",
      "       'May_2018', 'November_2018', 'October_2018', 'September_2018',\n",
      "       'April_2019', 'August_2019', 'December_2019', 'February_2019',\n",
      "       'January_2019', 'July_2019', 'June_2019', 'March_2019', 'May_2019',\n",
      "       'November_2019', 'October_2019', 'September_2019', 'January_2020',\n",
      "       'February_2020', 'March_2020', 'April_2020', 'May_2020', 'June_2020',\n",
      "       'July_2020', 'August_2020', 'September_2020', 'October_2020',\n",
      "       'November_2020', 'December_2020', 'January_2021', 'February_2021',\n",
      "       'Enr_Latest', 'March_2021', 'April_2021', 'May_2021', 'June_2021',\n",
      "       'July_2021'],\n",
      "      dtype='object')\n",
      "Index(['statecode', 'County', 'State', 'Plan_Name', 'plan_type',\n",
      "       'Monthly_Consolidated_Premium_C_D', 'bid_id', 'Key_Segment',\n",
      "       'key_cross', 'parent_organization', 'Premium_C_new', 'Premium_D_new',\n",
      "       'Special_Needs_Plan_Type', 'Combined_Counties', 'counties_cnt',\n",
      "       'Plan_Coverage', 'In_Network_MOOP_Amount', 'pbp_d_mco_pay_reduct_amt',\n",
      "       'Deductible_Health', 'pbp_d_inn_deduct_yn', 'pbp_d_inn_deduct_partb_yn',\n",
      "       'pbp_d_inn_deduct_amt', 'pbp_d_oon_deduct_yn',\n",
      "       'pbp_d_oon_deduct_partb_yn', 'pbp_d_oon_deduct_amt',\n",
      "       'pbp_d_comb_deduct_yn', 'pbp_d_comb_deduct_partb_yn',\n",
      "       'pbp_d_comb_deduct_amt', 'pbp_d_comb_max_enr_amt_yn',\n",
      "       'pbp_d_comb_max_enr_amt_type', 'pbp_d_comb_max_enr_amt',\n",
      "       'pbp_d_mco_pay_reduct_yn', 'Annual_Drug_Deductible', 'DESCRIPTION',\n",
      "       'Contract', 'Overall Star Rating', 'Grand_Total', 'Actuarial',\n",
      "       'TEG_Plan_Value_Total', 'TEG_Plan_Value_PartC', 'TEG_Plan_Value_PartD',\n",
      "       'Supplemental_Benefit_Value', 'cpid_21', 'April_2017', 'August_2017',\n",
      "       'December_2017', 'February_2017', 'January_2017', 'July_2017',\n",
      "       'June_2017', 'March_2017', 'May_2017', 'November_2017', 'October_2017',\n",
      "       'September_2017', 'April_2018', 'August_2018', 'December_2018',\n",
      "       'February_2018', 'January_2018', 'July_2018', 'June_2018', 'March_2018',\n",
      "       'May_2018', 'November_2018', 'October_2018', 'September_2018',\n",
      "       'April_2019', 'August_2019', 'December_2019', 'February_2019',\n",
      "       'January_2019', 'July_2019', 'June_2019', 'March_2019', 'May_2019',\n",
      "       'November_2019', 'October_2019', 'September_2019', 'January_2020',\n",
      "       'February_2020', 'March_2020', 'April_2020', 'May_2020', 'June_2020',\n",
      "       'July_2020', 'August_2020', 'September_2020', 'October_2020',\n",
      "       'November_2020', 'December_2020', 'January_2021', 'February_2021',\n",
      "       'Enr_Latest', 'March_2021', 'April_2021', 'May_2021', 'June_2021',\n",
      "       'July_2021', 'August_2021'],\n",
      "      dtype='object')\n",
      "Index(['statecode', 'County', 'State', 'Plan_Name', 'plan_type',\n",
      "       'Monthly_Consolidated_Premium_C_D', 'bid_id', 'Key_Segment',\n",
      "       'key_cross', 'parent_organization',\n",
      "       ...\n",
      "       'January_2021', 'February_2021', 'Enr_Latest', 'March_2021',\n",
      "       'April_2021', 'May_2021', 'June_2021', 'July_2021', 'August_2021',\n",
      "       'September_2021'],\n",
      "      dtype='object', length=101)\n",
      "Index(['statecode', 'County', 'State', 'Plan_Name', 'plan_type',\n",
      "       'Monthly_Consolidated_Premium_C_D', 'bid_id', 'Key_Segment',\n",
      "       'key_cross', 'parent_organization',\n",
      "       ...\n",
      "       'February_2021', 'Enr_Latest', 'March_2021', 'April_2021', 'May_2021',\n",
      "       'June_2021', 'July_2021', 'August_2021', 'September_2021',\n",
      "       'October_2021'],\n",
      "      dtype='object', length=102)\n"
     ]
    }
   ],
   "source": [
    "for i in column_list:\n",
    "    plan_comparison_left_with_OOPC[i]=plan_comparison_left_with_OOPC[\"Enr_Latest\"]\n",
    "    print(plan_comparison_left_with_OOPC.columns)\n",
    "\n",
    "plan_comparison_left_with_OOPC=plan_comparison_left_with_OOPC.drop(['cpid_21'],axis=1)\n"
   ]
  },
  {
   "cell_type": "code",
   "execution_count": 211,
   "metadata": {},
   "outputs": [],
   "source": [
    "plan_comparison_left_with_OOPC=plan_comparison_left_with_OOPC.drop(['key_cross'],axis=1)\n",
    "plan_comparison_left_with_OOPC['Overall Star Rating']=plan_comparison_left_with_OOPC['Overall Star Rating'].astype(str)\n"
   ]
  },
  {
   "cell_type": "code",
   "execution_count": 212,
   "metadata": {},
   "outputs": [],
   "source": [
    "plan_comparison_left_with_OOPC.rename (columns={\n",
    "\t'plan_type':'Plan_Type',     \n",
    "\t'statecode':'Statecode',\n",
    "\t'bid_id':'Bid_Id',\n",
    "\t'DESCRIPTION':'Plan_Description',\n",
    "\t'parent_organization':'Parent_Organization',\n",
    "\t'Premium_C_new':'Premium_C',\n",
    "    'Premium_D_new':'Premium_PartD',\n",
    "    'counties_cnt':'Counties_Cnt'\n",
    "\t }, inplace = True)\n"
   ]
  },
  {
   "cell_type": "code",
   "execution_count": 213,
   "metadata": {},
   "outputs": [],
   "source": [
    "plan_comparison_left_with_OOPC.to_csv(\"C:\\\\Users\\\\jishu.dayal\\\\Desktop\\\\PC_2021\\\\output\\\\PC_Lscape.csv\",index=False)\n"
   ]
  },
  {
   "cell_type": "code",
   "execution_count": 214,
   "metadata": {},
   "outputs": [],
   "source": [
    "benefit_file_with_OOPC_unpivot.to_csv(\"C:\\\\Users\\\\jishu.dayal\\\\Desktop\\\\PC_2021\\\\output\\\\PC_Benefits_new_OOPC_TPV_vbid_ssbci.csv\",index=False)\n"
   ]
  },
  {
   "cell_type": "code",
   "execution_count": 215,
   "metadata": {},
   "outputs": [],
   "source": [
    "df = pd.read_csv(\"C:\\\\Users\\\\jishu.dayal\\\\Desktop\\\\PC_2021\\\\output\\\\PC_Lscape.csv\", engine='python')\n"
   ]
  },
  {
   "cell_type": "code",
   "execution_count": 216,
   "metadata": {},
   "outputs": [],
   "source": [
    "df1 = df.copy()\n"
   ]
  },
  {
   "cell_type": "code",
   "execution_count": 217,
   "metadata": {},
   "outputs": [],
   "source": [
    "summary = pd.DataFrame(columns=['Test_Case','Expected_Value','Found_Value'])\n",
    "\n",
    "snp_type_list = ['Dual-Eligible','Institutional','Chronic or Disabling Condition','Non-SNP']\n",
    "\n",
    "snp_list = ['Yes','No']\n",
    "\n",
    "star19_list = ['2.5 Stars','3 Stars','3.5 Stars','4 Stars','4.5 Stars','5 Stars',\n",
    "               'Not Applicable','Not enough data available',\n",
    "               'Plan too new to be measured']\n",
    "\n",
    "overall_star_list = ['2.5','3','3.5','4','4.5','5','Not Applicable',\n",
    "                     'Not enough data available',\n",
    "                     'Plan too new to be measured']\n",
    "\n",
    "plan_description_list = ['Renewal Plan','Renewal Plan with SAE','Renewal Plan with SAR',\n",
    "                         'New Plan','Initial Contract','Consolidated Renewal Plan']\n"
   ]
  },
  {
   "cell_type": "code",
   "execution_count": 218,
   "metadata": {},
   "outputs": [],
   "source": [
    "def s_in_l_check(s,l):\n",
    "    if(pd.isnull(s)):\n",
    "        return True\n",
    "    else:\n",
    "        return (s in l)\n"
   ]
  },
  {
   "cell_type": "code",
   "execution_count": 219,
   "metadata": {},
   "outputs": [],
   "source": [
    "a = df.shape[0]\n",
    "tc = pd.DataFrame({'Test_Case':['No. of rows'],'Expected_Value':[85212],'Found_Value':[a]})\n",
    "summary = summary.append(tc,ignore_index=True)\n"
   ]
  },
  {
   "cell_type": "code",
   "execution_count": 220,
   "metadata": {},
   "outputs": [],
   "source": [
    "a = df.shape[1]\n",
    "tc = pd.DataFrame({'Test_Case':['No. of columns'],'Expected_Value':[100],'Found_Value':[a]})\n",
    "summary = summary.append(tc,ignore_index=True)\n"
   ]
  },
  {
   "cell_type": "code",
   "execution_count": 221,
   "metadata": {},
   "outputs": [],
   "source": [
    "a = df['State'].isnull().sum()\n",
    "tc = pd.DataFrame({'Test_Case':['No. of missing values in State column'],'Expected_Value':[0],'Found_Value':[a]})\n",
    "summary = summary.append(tc,ignore_index=True)\n"
   ]
  },
  {
   "cell_type": "code",
   "execution_count": 222,
   "metadata": {},
   "outputs": [],
   "source": [
    "a1 = df['State']+df['County']\n",
    "a = a1.nunique()\n"
   ]
  },
  {
   "cell_type": "code",
   "execution_count": 223,
   "metadata": {},
   "outputs": [],
   "source": [
    "tc = pd.DataFrame({'Test_Case':['No. of unique State_County'],'Expected_Value':[3145],'Found_Value':[a]})\n",
    "summary = summary.append(tc,ignore_index=True)\n"
   ]
  },
  {
   "cell_type": "code",
   "execution_count": 224,
   "metadata": {},
   "outputs": [],
   "source": [
    "a = df['County'].isnull().sum()\n",
    "tc = pd.DataFrame({'Test_Case':['No. of missing values in County column'],'Expected_Value':[0],'Found_Value':[a]})\n",
    "summary = summary.append(tc,ignore_index=True)\n"
   ]
  },
  {
   "cell_type": "code",
   "execution_count": 225,
   "metadata": {},
   "outputs": [],
   "source": [
    "a = df['Plan_Name'].isnull().sum()\n",
    "tc = pd.DataFrame({'Test_Case':['No. of missing values in Plan_Name column'],'Expected_Value':[0],'Found_Value':[a]})\n",
    "summary = summary.append(tc,ignore_index=True)\n"
   ]
  },
  {
   "cell_type": "code",
   "execution_count": 226,
   "metadata": {},
   "outputs": [],
   "source": [
    "a = df['Plan_Type'].nunique()\n",
    "tc = pd.DataFrame({'Test_Case':['No. of unique Plan Types'],'Expected_Value':[12],'Found_Value':[a]})\n",
    "summary = summary.append(tc,ignore_index=True)\n"
   ]
  },
  {
   "cell_type": "code",
   "execution_count": 227,
   "metadata": {},
   "outputs": [],
   "source": [
    "a = df['Plan_Type'].isnull().sum()\n",
    "tc = pd.DataFrame({'Test_Case':['No. of missing values in Plan_Type column'],'Expected_Value':[0],'Found_Value':[a]})\n",
    "summary = summary.append(tc,ignore_index=True)\n"
   ]
  },
  {
   "cell_type": "code",
   "execution_count": 102,
   "metadata": {},
   "outputs": [],
   "source": [
    "df['snp_type_check'] = df['Special_Needs_Plan_Type'].apply(lambda row:s_in_l_check(row,snp_type_list))\n",
    "a = df['snp_type_check'].sum()\n",
    "tc = pd.DataFrame({'Test_Case':['No. of SNP_Type values having valid values or blank'],'Expected_Value':[85188],'Found_Value':[a]})\n",
    "summary = summary.append(tc,ignore_index=True)\n"
   ]
  },
  {
   "cell_type": "code",
   "execution_count": 103,
   "metadata": {},
   "outputs": [],
   "source": [
    "df['plan_description_check'] = df['Plan_Description'].apply(lambda row:row in plan_description_list)\n",
    "a = df['plan_description_check'].sum()\n",
    "tc = pd.DataFrame({'Test_Case':['No. of valid Plan_Description values'],'Expected_Value':[85212],'Found_Value':[a]})\n",
    "summary = summary.append(tc,ignore_index=True)\n"
   ]
  },
  {
   "cell_type": "code",
   "execution_count": 104,
   "metadata": {},
   "outputs": [],
   "source": [
    "a = df['Statecode'].nunique()\n",
    "tc = pd.DataFrame({'Test_Case':['No. of unique Statecodes'],'Expected_Value':[51],'Found_Value':[a]})\n",
    "summary = summary.append(tc,ignore_index=True)\n"
   ]
  },
  {
   "cell_type": "code",
   "execution_count": 105,
   "metadata": {},
   "outputs": [],
   "source": [
    "a = df['Statecode'].isnull().sum()\n",
    "tc = pd.DataFrame({'Test_Case':['No. of missing values in Statecode column'],'Expected_Value':[0],'Found_Value':[a]})\n",
    "summary = summary.append(tc,ignore_index=True)\n"
   ]
  },
  {
   "cell_type": "code",
   "execution_count": 106,
   "metadata": {},
   "outputs": [],
   "source": [
    "df['Statecode_check'] = df['Statecode'].apply(lambda row: (len(row)==2) & (row.isupper()))\n",
    "a = df['Statecode_check'].sum()\n",
    "tc = pd.DataFrame({'Test_Case':['No. of Statecode values having length 2 and also uppercase letters'],'Expected_Value':[85188],'Found_Value':[a]})\n",
    "summary = summary.append(tc,ignore_index=True)\n"
   ]
  },
  {
   "cell_type": "code",
   "execution_count": 228,
   "metadata": {},
   "outputs": [],
   "source": [
    "a = df['Key_Segment'].nunique()\n",
    "tc = pd.DataFrame({'Test_Case':['No. of unique Key_Segments'],'Expected_Value':[4953],'Found_Value':[a]})\n",
    "summary = summary.append(tc,ignore_index=True)\n"
   ]
  },
  {
   "cell_type": "code",
   "execution_count": 229,
   "metadata": {},
   "outputs": [],
   "source": [
    "a = df['Bid_Id'].isnull().sum()\n",
    "tc = pd.DataFrame({'Test_Case':['No. of missing values in Bid_ID column'],'Expected_Value':[0],'Found_Value':[a]})\n",
    "summary = summary.append(tc,ignore_index=True)\n"
   ]
  },
  {
   "cell_type": "code",
   "execution_count": 230,
   "metadata": {},
   "outputs": [],
   "source": [
    "df['overall_star_rating_check'] = df['Overall Star Rating'].apply(lambda row:row in overall_star_list)\n",
    "a = df['overall_star_rating_check'].sum()\n",
    "tc = pd.DataFrame({'Test_Case':['No. of valid Overall_Star_Rating values'],'Expected_Value':[85212],'Found_Value':[a]})\n",
    "summary = summary.append(tc,ignore_index=True)\n"
   ]
  },
  {
   "cell_type": "code",
   "execution_count": 231,
   "metadata": {},
   "outputs": [],
   "source": [
    "a = df['Parent_Organization'].isnull().sum()\n",
    "tc = pd.DataFrame({'Test_Case':['No. of missing values in Parent_Organization column'],'Expected_Value':[0],'Found_Value':[a]})\n",
    "summary = summary.append(tc,ignore_index=True)\n"
   ]
  },
  {
   "cell_type": "code",
   "execution_count": 232,
   "metadata": {},
   "outputs": [],
   "source": [
    "result = pd.DataFrame()\n",
    "result['Data Types']=df1.dtypes"
   ]
  },
  {
   "cell_type": "code",
   "execution_count": 233,
   "metadata": {},
   "outputs": [],
   "source": [
    "df1['County']=df1['State']+df1['County']\n",
    "result['Unique Values']=df1.nunique()\n",
    "result['Unique Values including NaN']=df1.nunique(dropna=False)\n",
    "result['Missing Values']=df1.isnull().sum()\n",
    "result.loc[result['Missing Values'] == 0,'Missing Values'] = \"no missing values\"\n"
   ]
  },
  {
   "cell_type": "code",
   "execution_count": 234,
   "metadata": {},
   "outputs": [
    {
     "data": {
      "text/plain": [
       "State\n",
       "Alabama             67\n",
       "Arizona             15\n",
       "Arkansas            75\n",
       "California          44\n",
       "Colorado            59\n",
       "Connecticut          8\n",
       "Delaware             3\n",
       "Florida             67\n",
       "Georgia            159\n",
       "Hawaii               5\n",
       "Idaho               34\n",
       "Illinois           102\n",
       "Indiana             92\n",
       "Iowa                98\n",
       "Kansas             105\n",
       "Kentucky           120\n",
       "Louisiana           64\n",
       "Maine               16\n",
       "Maryland            24\n",
       "Massachusetts       14\n",
       "Michigan            83\n",
       "Minnesota           87\n",
       "Mississippi         82\n",
       "Missouri           115\n",
       "Montana             56\n",
       "Nebraska            84\n",
       "Nevada              17\n",
       "New Hampshire       10\n",
       "New Jersey          21\n",
       "New Mexico          33\n",
       "New York            62\n",
       "North Carolina     100\n",
       "North Dakota        53\n",
       "Ohio                88\n",
       "Oklahoma            77\n",
       "Oregon              36\n",
       "Pennsylvania        67\n",
       "Puerto Rico         78\n",
       "Rhode Island         5\n",
       "South Carolina      46\n",
       "South Dakota        66\n",
       "Tennessee           95\n",
       "Texas              254\n",
       "Utah                29\n",
       "Vermont             14\n",
       "Virginia           133\n",
       "Washington          32\n",
       "Washington D.C.      1\n",
       "West Virginia       55\n",
       "Wisconsin           72\n",
       "Wyoming             23\n",
       "Name: County, dtype: int64"
      ]
     },
     "execution_count": 234,
     "metadata": {},
     "output_type": "execute_result"
    }
   ],
   "source": [
    "unique_counties = df.groupby('State')['County'].nunique()\n",
    "unique_counties\n"
   ]
  },
  {
   "cell_type": "code",
   "execution_count": 235,
   "metadata": {},
   "outputs": [],
   "source": [
    "summary['True/False'] = summary.apply(lambda row: row['Expected_Value']==row['Found_Value'], axis=1)\n",
    "\n"
   ]
  },
  {
   "cell_type": "code",
   "execution_count": 236,
   "metadata": {},
   "outputs": [],
   "source": [
    "join_check['True/False'] = join_check.apply(lambda row: row['Rows_after_join']==row['Expected_rows_after_Join'], axis=1)"
   ]
  },
  {
   "cell_type": "code",
   "execution_count": 246,
   "metadata": {},
   "outputs": [],
   "source": [
    "writer = pd.ExcelWriter(\"C:\\\\Users\\\\jishu.dayal\\\\Desktop\\\\PC_2021\\\\output\\\\Data Summary of PC.xlsx\", engine='xlsxwriter')\n"
   ]
  },
  {
   "cell_type": "code",
   "execution_count": 247,
   "metadata": {},
   "outputs": [],
   "source": [
    "join_check.to_excel(writer, sheet_name='Join check table')\n"
   ]
  },
  {
   "cell_type": "code",
   "execution_count": 248,
   "metadata": {},
   "outputs": [],
   "source": [
    "summary.to_excel(writer, sheet_name='Summary_Lscape')\n"
   ]
  },
  {
   "cell_type": "code",
   "execution_count": 249,
   "metadata": {},
   "outputs": [],
   "source": [
    "result.to_excel(writer, sheet_name='Result_Lscape')\n"
   ]
  },
  {
   "cell_type": "code",
   "execution_count": 250,
   "metadata": {},
   "outputs": [],
   "source": [
    "df['Plan_Type'].value_counts().to_excel(writer, sheet_name='Plan_Type_Lscape')\n"
   ]
  },
  {
   "cell_type": "code",
   "execution_count": 251,
   "metadata": {},
   "outputs": [],
   "source": [
    "df['Special_Needs_Plan_Type'].value_counts().to_excel(writer, sheet_name='SNP_Type_Lscape')\n"
   ]
  },
  {
   "cell_type": "code",
   "execution_count": 252,
   "metadata": {},
   "outputs": [],
   "source": [
    "df.State.value_counts().to_excel(writer, sheet_name='State_Lscape')\n"
   ]
  },
  {
   "cell_type": "code",
   "execution_count": 253,
   "metadata": {},
   "outputs": [],
   "source": [
    "unique_counties.to_excel(writer, sheet_name='County_Lscape')\n"
   ]
  },
  {
   "cell_type": "code",
   "execution_count": 254,
   "metadata": {},
   "outputs": [],
   "source": [
    "writer.save()"
   ]
  },
  {
   "cell_type": "code",
   "execution_count": null,
   "metadata": {},
   "outputs": [],
   "source": []
  }
 ],
 "metadata": {
  "kernelspec": {
   "display_name": "Python 3",
   "language": "python",
   "name": "python3"
  },
  "language_info": {
   "codemirror_mode": {
    "name": "ipython",
    "version": 3
   },
   "file_extension": ".py",
   "mimetype": "text/x-python",
   "name": "python",
   "nbconvert_exporter": "python",
   "pygments_lexer": "ipython3",
   "version": "3.7.3"
  }
 },
 "nbformat": 4,
 "nbformat_minor": 2
}
